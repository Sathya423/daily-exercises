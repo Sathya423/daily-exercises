{
 "cells": [
  {
   "cell_type": "markdown",
   "id": "60d06ac3",
   "metadata": {},
   "source": [
    "# Python program to interchange first and last elements in a list"
   ]
  },
  {
   "cell_type": "code",
   "execution_count": 1,
   "id": "4ecdf1cc",
   "metadata": {},
   "outputs": [
    {
     "name": "stdout",
     "output_type": "stream",
     "text": [
      "[['a', 'b', 'c'], 2, 3, 4, 5, 56, 1]\n"
     ]
    }
   ],
   "source": [
    "\n",
    "s=[1,2,3,4,5,56,[\"a\",\"b\",\"c\"]]\n",
    "a=s[0]\n",
    "b=s[-1]\n",
    "s[0]=b\n",
    "s[-1]=a\n",
    "print(s)\n",
    "\n"
   ]
  },
  {
   "cell_type": "code",
   "execution_count": 2,
   "id": "9a09236d",
   "metadata": {},
   "outputs": [
    {
     "name": "stdout",
     "output_type": "stream",
     "text": [
      "1\n",
      "2\n",
      "3\n",
      "4\n",
      "5\n",
      "6\n",
      "7\n",
      "8\n",
      "9\n"
     ]
    }
   ],
   "source": [
    "n =10\n",
    "for value in range(1,n):\\\n",
    "    print(value)"
   ]
  },
  {
   "cell_type": "markdown",
   "id": "ce36c073",
   "metadata": {},
   "source": [
    "# Python program to swap two elements in a list"
   ]
  },
  {
   "cell_type": "code",
   "execution_count": 3,
   "id": "d2ac3bf0",
   "metadata": {},
   "outputs": [
    {
     "data": {
      "text/plain": [
       "['elephant', 'ball', 'cat', 'dog', 'apple']"
      ]
     },
     "execution_count": 3,
     "metadata": {},
     "output_type": "execute_result"
    }
   ],
   "source": [
    "\n",
    "list=[\"apple\",\"ball\",\"cat\",\"dog\",\"elephant\"]\n",
    "list[0],list[-1]=list[-1],list[0]\n",
    "list"
   ]
  },
  {
   "cell_type": "code",
   "execution_count": null,
   "id": "3b14a086",
   "metadata": {},
   "outputs": [],
   "source": [
    "Python | Ways to find length of list"
   ]
  }
 ],
 "metadata": {
  "kernelspec": {
   "display_name": "Python 3 (ipykernel)",
   "language": "python",
   "name": "python3"
  },
  "language_info": {
   "codemirror_mode": {
    "name": "ipython",
    "version": 3
   },
   "file_extension": ".py",
   "mimetype": "text/x-python",
   "name": "python",
   "nbconvert_exporter": "python",
   "pygments_lexer": "ipython3",
   "version": "3.9.9"
  }
 },
 "nbformat": 4,
 "nbformat_minor": 5
}
