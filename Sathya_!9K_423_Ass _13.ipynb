{
 "cells": [
  {
   "cell_type": "code",
   "execution_count": null,
   "id": "a21469d3",
   "metadata": {},
   "outputs": [],
   "source": [
    "file=open(\"c:/Users/Sathya/Desktop/pythona13/pythonA13.txt\",\"r\")\n",
    "word=file.read().split()\n",
    "longest=len(max(word,key=len))\n",
    "for i in word:\n",
    "    if len(i)==longest:\n",
    "        print(\"longest word in the text is :\",i)"
   ]
  }
 ],
 "metadata": {
  "kernelspec": {
   "display_name": "Python 3 (ipykernel)",
   "language": "python",
   "name": "python3"
  },
  "language_info": {
   "codemirror_mode": {
    "name": "ipython",
    "version": 3
   },
   "file_extension": ".py",
   "mimetype": "text/x-python",
   "name": "python",
   "nbconvert_exporter": "python",
   "pygments_lexer": "ipython3",
   "version": "3.9.9"
  }
 },
 "nbformat": 4,
 "nbformat_minor": 5
}
