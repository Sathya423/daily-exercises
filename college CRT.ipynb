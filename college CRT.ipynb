{
 "cells": [
  {
   "cell_type": "code",
   "execution_count": 2,
   "id": "52d53d56",
   "metadata": {},
   "outputs": [
    {
     "name": "stdout",
     "output_type": "stream",
     "text": [
      "Python 3.9.9\n"
     ]
    }
   ],
   "source": [
    "!python --version"
   ]
  },
  {
   "cell_type": "code",
   "execution_count": null,
   "id": "6803a151",
   "metadata": {},
   "outputs": [],
   "source": [
    "!python -v"
   ]
  },
  {
   "cell_type": "code",
   "execution_count": null,
   "id": "4b9eeff4",
   "metadata": {},
   "outputs": [],
   "source": [
    "!python -vv"
   ]
  },
  {
   "cell_type": "markdown",
   "id": "f074d714",
   "metadata": {},
   "source": [
    "# zip "
   ]
  },
  {
   "cell_type": "code",
   "execution_count": 3,
   "id": "1a370bda",
   "metadata": {},
   "outputs": [
    {
     "data": {
      "text/plain": [
       "[(1, 'a'), (2, 'b')]"
      ]
     },
     "execution_count": 3,
     "metadata": {},
     "output_type": "execute_result"
    }
   ],
   "source": [
    "a=[1,2,3,4,5,6]\n",
    "c=(\"a\",\"b\")\n",
    "s=zip(a,c)\n",
    "list(s)"
   ]
  },
  {
   "cell_type": "code",
   "execution_count": 9,
   "id": "508121a0",
   "metadata": {},
   "outputs": [
    {
     "name": "stdout",
     "output_type": "stream",
     "text": [
      "((1, 'a'), (2, 'b'))\n",
      "[]\n"
     ]
    }
   ],
   "source": [
    "a=[1,2,3,4,5,6]\n",
    "c=(\"a\",\"b\")\n",
    "s=zip(a,c)\n",
    "q=tuple(s)\n",
    "x=list(s)\n",
    "print(q)\n",
    "print(x)"
   ]
  },
  {
   "cell_type": "code",
   "execution_count": 14,
   "id": "a6a5ed6d",
   "metadata": {},
   "outputs": [
    {
     "ename": "StopIteration",
     "evalue": "",
     "output_type": "error",
     "traceback": [
      "\u001b[1;31m---------------------------------------------------------------------------\u001b[0m",
      "\u001b[1;31mStopIteration\u001b[0m                             Traceback (most recent call last)",
      "\u001b[1;32m~\\AppData\\Local\\Temp/ipykernel_20064/2929760143.py\u001b[0m in \u001b[0;36m<module>\u001b[1;34m\u001b[0m\n\u001b[0;32m      3\u001b[0m \u001b[0ms\u001b[0m\u001b[1;33m=\u001b[0m\u001b[0mzip\u001b[0m\u001b[1;33m(\u001b[0m\u001b[0ma\u001b[0m\u001b[1;33m,\u001b[0m\u001b[0mc\u001b[0m\u001b[1;33m)\u001b[0m\u001b[1;33m\u001b[0m\u001b[1;33m\u001b[0m\u001b[0m\n\u001b[0;32m      4\u001b[0m \u001b[0mlist\u001b[0m\u001b[1;33m(\u001b[0m\u001b[0ms\u001b[0m\u001b[1;33m)\u001b[0m\u001b[1;33m\u001b[0m\u001b[1;33m\u001b[0m\u001b[0m\n\u001b[1;32m----> 5\u001b[1;33m \u001b[0mnext\u001b[0m\u001b[1;33m(\u001b[0m\u001b[0ms\u001b[0m\u001b[1;33m)\u001b[0m\u001b[1;33m\u001b[0m\u001b[1;33m\u001b[0m\u001b[0m\n\u001b[0m",
      "\u001b[1;31mStopIteration\u001b[0m: "
     ]
    }
   ],
   "source": [
    "a=[1,2,3,4,5,6]\n",
    "c=(\"a\",\"b\")\n",
    "s=zip(a,c)\n",
    "list(s)\n"
   ]
  },
  {
   "cell_type": "code",
   "execution_count": 17,
   "id": "e147db3d",
   "metadata": {},
   "outputs": [
    {
     "data": {
      "text/plain": [
       "[(1, 'q', 'cat'), (2, 'a', 'ball')]"
      ]
     },
     "execution_count": 17,
     "metadata": {},
     "output_type": "execute_result"
    }
   ],
   "source": [
    "a={1,2,3,4,5,67,7}\n",
    "b={\"a\",'a','q'}\n",
    "c={\"apple\",\"ball\",\"cat\"}\n",
    "q=zip(a,b,c)\n",
    "list(q)"
   ]
  },
  {
   "cell_type": "code",
   "execution_count": 21,
   "id": "c918e8dc",
   "metadata": {},
   "outputs": [
    {
     "data": {
      "text/plain": [
       "{(1, 'a', 'apple'), (2, 'a', 'ball'), (3, 'q', 'cat')}"
      ]
     },
     "execution_count": 21,
     "metadata": {},
     "output_type": "execute_result"
    }
   ],
   "source": [
    "C\n",
    "#list(q)\n",
    "set(q)"
   ]
  },
  {
   "cell_type": "code",
   "execution_count": 24,
   "id": "57f5f650",
   "metadata": {},
   "outputs": [
    {
     "data": {
      "text/plain": [
       "{1: 'q', 2: 'a'}"
      ]
     },
     "execution_count": 24,
     "metadata": {},
     "output_type": "execute_result"
    }
   ],
   "source": [
    "a={1,2,3,4,5,67,7}\n",
    "b={\"a\",'a','q'}\n",
    "#c={\"apple\",\"ball\",\"cat\"}\n",
    "q=zip(a,b)\n",
    "dict(q)"
   ]
  },
  {
   "cell_type": "code",
   "execution_count": 25,
   "id": "b173cd02",
   "metadata": {},
   "outputs": [
    {
     "data": {
      "text/plain": [
       "[(0, 'as'), (1, 'aa')]"
      ]
     },
     "execution_count": 25,
     "metadata": {},
     "output_type": "execute_result"
    }
   ],
   "source": [
    "list(zip(range(2),['as','aa','sd']))"
   ]
  },
  {
   "cell_type": "code",
   "execution_count": 30,
   "id": "66b3b264",
   "metadata": {},
   "outputs": [
    {
     "data": {
      "text/plain": [
       "[(1, 'a', 0),\n",
       " (2, 'a', 1),\n",
       " (3, 's', 2),\n",
       " (4, 'a', 3),\n",
       " (5, None, 4),\n",
       " (6, None, 5)]"
      ]
     },
     "execution_count": 30,
     "metadata": {},
     "output_type": "execute_result"
    }
   ],
   "source": [
    "from itertools import zip_longest\n",
    "a =(1,2,3,4,5,6)\n",
    "b=('a','a','s','a')\n",
    "c = range(6)\n",
    "d=zip_longest(a,b,c)\n",
    "list(d)"
   ]
  },
  {
   "cell_type": "code",
   "execution_count": 32,
   "id": "fa3b77c2",
   "metadata": {},
   "outputs": [
    {
     "data": {
      "text/plain": [
       "[(1, 'a', 0),\n",
       " (2, 'a', 1),\n",
       " (3, 's', 2),\n",
       " (4, 'a', 3),\n",
       " (5, None, 4),\n",
       " (6, None, 5),\n",
       " (None, None, 6),\n",
       " (None, None, 7),\n",
       " (None, None, 8)]"
      ]
     },
     "execution_count": 32,
     "metadata": {},
     "output_type": "execute_result"
    }
   ],
   "source": [
    "from itertools import zip_longest\n",
    "a =(1,2,3,4,5,6)\n",
    "b=('a','a','s','a')\n",
    "c = range(9)\n",
    "d=zip_longest(a,b,c,fillvalue =None)\n",
    "list(d)"
   ]
  },
  {
   "cell_type": "code",
   "execution_count": 34,
   "id": "858f62d5",
   "metadata": {},
   "outputs": [
    {
     "data": {
      "text/plain": [
       "[(1, 'a'), (2, 'b'), (3, 'v'), (4, 'd'), (5, 'e')]"
      ]
     },
     "execution_count": 34,
     "metadata": {},
     "output_type": "execute_result"
    }
   ],
   "source": [
    "a=(1,2,3,4,5,4,33,44,22,2222)\n",
    "b=('a','b','v','d','e')\n",
    "q=sorted(zip(a,b))\n",
    "q"
   ]
  },
  {
   "cell_type": "code",
   "execution_count": 35,
   "id": "77369ab3",
   "metadata": {},
   "outputs": [
    {
     "data": {
      "text/plain": [
       "[('a', 1), ('b', 2), ('d', 4), ('e', 5), ('v', 3)]"
      ]
     },
     "execution_count": 35,
     "metadata": {},
     "output_type": "execute_result"
    }
   ],
   "source": [
    "a=(1,2,3,4,5,4,33,44,22,2222)\n",
    "b=('a','b','v','d','e')\n",
    "q=sorted(zip(b,a))\n",
    "q"
   ]
  },
  {
   "cell_type": "code",
   "execution_count": 37,
   "id": "c0e0bb05",
   "metadata": {},
   "outputs": [
    {
     "ename": "SyntaxError",
     "evalue": "invalid syntax (Temp/ipykernel_20064/3211303848.py, line 5)",
     "output_type": "error",
     "traceback": [
      "\u001b[1;36m  File \u001b[1;32m\"C:\\Users\\User\\AppData\\Local\\Temp/ipykernel_20064/3211303848.py\"\u001b[1;36m, line \u001b[1;32m5\u001b[0m\n\u001b[1;33m    list(q)\u001b[0m\n\u001b[1;37m    ^\u001b[0m\n\u001b[1;31mSyntaxError\u001b[0m\u001b[1;31m:\u001b[0m invalid syntax\n"
     ]
    }
   ],
   "source": [
    "a=(1,2,3,4,5,4,33,44,22,2222)\n",
    "b=('a','b','v','d','e')\n",
    "c=(\"apple\",\"bal\",\"cat\")\n",
    "q=sorted(zip(c,a,b)\n",
    "list(q)"
   ]
  },
  {
   "cell_type": "markdown",
   "id": "f75733ab",
   "metadata": {},
   "source": [
    "# range[start:stop:step]"
   ]
  },
  {
   "cell_type": "code",
   "execution_count": 46,
   "id": "47cd14bf",
   "metadata": {},
   "outputs": [
    {
     "data": {
      "text/plain": [
       "[0, 1, 2, 3, 4, 5, 6, 7, 8, 9, 10]"
      ]
     },
     "execution_count": 46,
     "metadata": {},
     "output_type": "execute_result"
    }
   ],
   "source": [
    "list(range(11))"
   ]
  },
  {
   "cell_type": "code",
   "execution_count": 47,
   "id": "fff9867e",
   "metadata": {},
   "outputs": [
    {
     "data": {
      "text/plain": [
       "[11, 12, 13, 14, 15, 16, 17, 18, 19, 20]"
      ]
     },
     "execution_count": 47,
     "metadata": {},
     "output_type": "execute_result"
    }
   ],
   "source": [
    "list(range(11,21))"
   ]
  },
  {
   "cell_type": "code",
   "execution_count": 48,
   "id": "9b7ad8d4",
   "metadata": {},
   "outputs": [
    {
     "data": {
      "text/plain": [
       "[11, 14, 17, 20]"
      ]
     },
     "execution_count": 48,
     "metadata": {},
     "output_type": "execute_result"
    }
   ],
   "source": [
    "list(range(11,21,3))"
   ]
  },
  {
   "cell_type": "code",
   "execution_count": 51,
   "id": "440b790d",
   "metadata": {},
   "outputs": [
    {
     "data": {
      "text/plain": [
       "range(0, 10)"
      ]
     },
     "execution_count": 51,
     "metadata": {},
     "output_type": "execute_result"
    }
   ],
   "source": [
    "range(10)\n"
   ]
  },
  {
   "cell_type": "code",
   "execution_count": 52,
   "id": "a40870e6",
   "metadata": {},
   "outputs": [
    {
     "name": "stdout",
     "output_type": "stream",
     "text": [
      "0 1 2 3 4 5 6 7 8 9\n"
     ]
    }
   ],
   "source": [
    "print(*range(10))"
   ]
  },
  {
   "cell_type": "code",
   "execution_count": 53,
   "id": "174680d3",
   "metadata": {},
   "outputs": [
    {
     "name": "stdout",
     "output_type": "stream",
     "text": [
      "2 3 4 5 6 7 8 9\n"
     ]
    }
   ],
   "source": [
    "print(*range(2,10))"
   ]
  },
  {
   "cell_type": "code",
   "execution_count": 54,
   "id": "04c4ae27",
   "metadata": {},
   "outputs": [
    {
     "name": "stdout",
     "output_type": "stream",
     "text": [
      "2 1\n"
     ]
    }
   ],
   "source": [
    "print(*range(2,0,-1))"
   ]
  },
  {
   "cell_type": "code",
   "execution_count": 55,
   "id": "ad6ed6fa",
   "metadata": {},
   "outputs": [
    {
     "data": {
      "text/plain": [
       "[0, 1, 2, 3, 4, 5, 6, 7, 8, 9]"
      ]
     },
     "execution_count": 55,
     "metadata": {},
     "output_type": "execute_result"
    }
   ],
   "source": [
    "list(range(10))"
   ]
  },
  {
   "cell_type": "code",
   "execution_count": 56,
   "id": "64386883",
   "metadata": {},
   "outputs": [
    {
     "data": {
      "text/plain": [
       "4950"
      ]
     },
     "execution_count": 56,
     "metadata": {},
     "output_type": "execute_result"
    }
   ],
   "source": [
    "sum(range(100))"
   ]
  },
  {
   "cell_type": "code",
   "execution_count": 58,
   "id": "8e629158",
   "metadata": {
    "scrolled": true
   },
   "outputs": [
    {
     "ename": "SyntaxError",
     "evalue": "invalid syntax (Temp/ipykernel_20064/3992842351.py, line 1)",
     "output_type": "error",
     "traceback": [
      "\u001b[1;36m  File \u001b[1;32m\"C:\\Users\\User\\AppData\\Local\\Temp/ipykernel_20064/3992842351.py\"\u001b[1;36m, line \u001b[1;32m1\u001b[0m\n\u001b[1;33m    sum(range(100::2::5))\u001b[0m\n\u001b[1;37m                 ^\u001b[0m\n\u001b[1;31mSyntaxError\u001b[0m\u001b[1;31m:\u001b[0m invalid syntax\n"
     ]
    }
   ],
   "source": [
    "sum(range(100::2::5))"
   ]
  },
  {
   "cell_type": "code",
   "execution_count": 59,
   "id": "7eaffee0",
   "metadata": {},
   "outputs": [
    {
     "data": {
      "text/plain": [
       "6"
      ]
     },
     "execution_count": 59,
     "metadata": {},
     "output_type": "execute_result"
    }
   ],
   "source": [
    "range(7)[-1]"
   ]
  },
  {
   "cell_type": "code",
   "execution_count": 60,
   "id": "a4702282",
   "metadata": {},
   "outputs": [
    {
     "data": {
      "text/plain": [
       "range(8, -1, -1)"
      ]
     },
     "execution_count": 60,
     "metadata": {},
     "output_type": "execute_result"
    }
   ],
   "source": [
    "range(9)[::-1]"
   ]
  },
  {
   "cell_type": "code",
   "execution_count": 61,
   "id": "e71c965d",
   "metadata": {},
   "outputs": [
    {
     "data": {
      "text/plain": [
       "5"
      ]
     },
     "execution_count": 61,
     "metadata": {},
     "output_type": "execute_result"
    }
   ],
   "source": [
    "range(1,9)[4]"
   ]
  },
  {
   "cell_type": "code",
   "execution_count": 62,
   "id": "5334c977",
   "metadata": {},
   "outputs": [
    {
     "data": {
      "text/plain": [
       "range(3, 5)"
      ]
     },
     "execution_count": 62,
     "metadata": {},
     "output_type": "execute_result"
    }
   ],
   "source": [
    "range(1,9)[2:4]"
   ]
  },
  {
   "cell_type": "code",
   "execution_count": 63,
   "id": "48c35989",
   "metadata": {},
   "outputs": [
    {
     "data": {
      "text/plain": [
       "range(3, 5)"
      ]
     },
     "execution_count": 63,
     "metadata": {},
     "output_type": "execute_result"
    }
   ],
   "source": [
    "range(1,33)[2:4]"
   ]
  },
  {
   "cell_type": "markdown",
   "id": "f86d0a67",
   "metadata": {},
   "source": [
    "# Bollen function"
   ]
  },
  {
   "cell_type": "code",
   "execution_count": 3,
   "id": "256c62a5",
   "metadata": {},
   "outputs": [],
   "source": [
    "import math"
   ]
  },
  {
   "cell_type": "code",
   "execution_count": 9,
   "id": "d906b7a2",
   "metadata": {},
   "outputs": [
    {
     "data": {
      "text/plain": [
       "False"
      ]
     },
     "execution_count": 9,
     "metadata": {},
     "output_type": "execute_result"
    }
   ],
   "source": [
    "p=True\n",
    "a=False\n",
    "print\n"
   ]
  },
  {
   "cell_type": "code",
   "execution_count": 1,
   "id": "a77e3b97",
   "metadata": {},
   "outputs": [
    {
     "data": {
      "text/plain": [
       "3"
      ]
     },
     "execution_count": 1,
     "metadata": {},
     "output_type": "execute_result"
    }
   ],
   "source": [
    "a= True\n",
    "\n",
    "a*3"
   ]
  },
  {
   "cell_type": "code",
   "execution_count": 2,
   "id": "083560c8",
   "metadata": {},
   "outputs": [
    {
     "data": {
      "text/plain": [
       "0"
      ]
     },
     "execution_count": 2,
     "metadata": {},
     "output_type": "execute_result"
    }
   ],
   "source": [
    "a=False\n",
    "\n",
    "a*3"
   ]
  },
  {
   "cell_type": "markdown",
   "id": "ce6d1284",
   "metadata": {},
   "source": [
    "# string Unpacking"
   ]
  },
  {
   "cell_type": "code",
   "execution_count": 20,
   "id": "b3f548fa",
   "metadata": {},
   "outputs": [
    {
     "name": "stdout",
     "output_type": "stream",
     "text": [
      "usa\n",
      "u s a\n",
      "u.s.a\n",
      "u.s.a."
     ]
    }
   ],
   "source": [
    "country = \"usa\"\n",
    "print(country)\n",
    "print(*country) #string with default space\n",
    "print(*country,sep=\".\")#\n",
    "\n",
    "print(*country,sep=\".\",end=\".\")#string with default .space"
   ]
  },
  {
   "cell_type": "code",
   "execution_count": 18,
   "id": "98b3f3fc",
   "metadata": {},
   "outputs": [
    {
     "name": "stdout",
     "output_type": "stream",
     "text": [
      "u s a."
     ]
    }
   ],
   "source": [
    "print(*country,end=\".\")\n"
   ]
  },
  {
   "cell_type": "code",
   "execution_count": null,
   "id": "ede61ed3",
   "metadata": {},
   "outputs": [],
   "source": []
  },
  {
   "cell_type": "code",
   "execution_count": null,
   "id": "11e32f8e",
   "metadata": {},
   "outputs": [],
   "source": []
  },
  {
   "cell_type": "markdown",
   "id": "06e88451",
   "metadata": {},
   "source": [
    "# string replication"
   ]
  },
  {
   "cell_type": "code",
   "execution_count": 22,
   "id": "6323ed02",
   "metadata": {},
   "outputs": [
    {
     "data": {
      "text/plain": [
       "'sathya   sathya   sathya   sathya   '"
      ]
     },
     "execution_count": 22,
     "metadata": {},
     "output_type": "execute_result"
    }
   ],
   "source": [
    "\n",
    "d =\"sathya   \"\n",
    "d*4\n",
    "\n"
   ]
  },
  {
   "cell_type": "code",
   "execution_count": 29,
   "id": "7da59074",
   "metadata": {},
   "outputs": [
    {
     "data": {
      "text/plain": [
       "'welcome to uk  welcome to uk  '"
      ]
     },
     "execution_count": 29,
     "metadata": {},
     "output_type": "execute_result"
    }
   ],
   "source": [
    "a=\"welcome to uk  \"\n",
    "a*2\n"
   ]
  },
  {
   "cell_type": "code",
   "execution_count": 30,
   "id": "41d2497f",
   "metadata": {},
   "outputs": [
    {
     "data": {
      "text/plain": [
       "'welcome to uk  welcome to uk  '"
      ]
     },
     "execution_count": 30,
     "metadata": {},
     "output_type": "execute_result"
    }
   ],
   "source": [
    "2*a"
   ]
  },
  {
   "cell_type": "code",
   "execution_count": 31,
   "id": "dd79d388",
   "metadata": {},
   "outputs": [
    {
     "data": {
      "text/plain": [
       "'hello'"
      ]
     },
     "execution_count": 31,
     "metadata": {},
     "output_type": "execute_result"
    }
   ],
   "source": [
    "a=\"hello\"\n",
    "a*True"
   ]
  },
  {
   "cell_type": "code",
   "execution_count": 32,
   "id": "ac9f3885",
   "metadata": {},
   "outputs": [
    {
     "data": {
      "text/plain": [
       "''"
      ]
     },
     "execution_count": 32,
     "metadata": {},
     "output_type": "execute_result"
    }
   ],
   "source": [
    "b=\"apple\"\n",
    "b*False"
   ]
  },
  {
   "cell_type": "code",
   "execution_count": 33,
   "id": "47a1b69c",
   "metadata": {},
   "outputs": [
    {
     "data": {
      "text/plain": [
       "''"
      ]
     },
     "execution_count": 33,
     "metadata": {},
     "output_type": "execute_result"
    }
   ],
   "source": [
    "c=\"cat\"\n",
    "c*-3"
   ]
  },
  {
   "cell_type": "code",
   "execution_count": 34,
   "id": "7fad7252",
   "metadata": {},
   "outputs": [
    {
     "data": {
      "text/plain": [
       "''"
      ]
     },
     "execution_count": 34,
     "metadata": {},
     "output_type": "execute_result"
    }
   ],
   "source": [
    "d=\"appp\"\n",
    "d*0"
   ]
  },
  {
   "cell_type": "code",
   "execution_count": null,
   "id": "65867b74",
   "metadata": {},
   "outputs": [],
   "source": []
  },
  {
   "cell_type": "code",
   "execution_count": null,
   "id": "519c2270",
   "metadata": {},
   "outputs": [],
   "source": []
  },
  {
   "cell_type": "code",
   "execution_count": null,
   "id": "fa4d954e",
   "metadata": {},
   "outputs": [],
   "source": []
  },
  {
   "cell_type": "markdown",
   "id": "23d5a3f0",
   "metadata": {},
   "source": [
    "# indexing"
   ]
  },
  {
   "cell_type": "code",
   "execution_count": 54,
   "id": "842bbd25",
   "metadata": {},
   "outputs": [],
   "source": [
    "a =\"welcome to smec \""
   ]
  },
  {
   "cell_type": "code",
   "execution_count": 55,
   "id": "bde809b4",
   "metadata": {},
   "outputs": [
    {
     "data": {
      "text/plain": [
       "'w'"
      ]
     },
     "execution_count": 55,
     "metadata": {},
     "output_type": "execute_result"
    }
   ],
   "source": [
    "a[0]"
   ]
  },
  {
   "cell_type": "code",
   "execution_count": 56,
   "id": "909ac614",
   "metadata": {},
   "outputs": [
    {
     "data": {
      "text/plain": [
       "'e'"
      ]
     },
     "execution_count": 56,
     "metadata": {},
     "output_type": "execute_result"
    }
   ],
   "source": [
    "a[2+4]"
   ]
  },
  {
   "cell_type": "code",
   "execution_count": 57,
   "id": "716ae8c2",
   "metadata": {},
   "outputs": [
    {
     "data": {
      "text/plain": [
       "'o'"
      ]
     },
     "execution_count": 57,
     "metadata": {},
     "output_type": "execute_result"
    }
   ],
   "source": [
    "a[2*2]"
   ]
  },
  {
   "cell_type": "code",
   "execution_count": 59,
   "id": "b91df6c8",
   "metadata": {},
   "outputs": [
    {
     "data": {
      "text/plain": [
       "' cems ot emoclew'"
      ]
     },
     "execution_count": 59,
     "metadata": {},
     "output_type": "execute_result"
    }
   ],
   "source": [
    "a[::-1]"
   ]
  },
  {
   "cell_type": "code",
   "execution_count": 107,
   "id": "88c413b5",
   "metadata": {},
   "outputs": [],
   "source": [
    "a=\"all things bright and beautiful all creatures great and small\""
   ]
  },
  {
   "cell_type": "code",
   "execution_count": 108,
   "id": "82624557",
   "metadata": {},
   "outputs": [
    {
     "data": {
      "text/plain": [
       "0"
      ]
     },
     "execution_count": 108,
     "metadata": {},
     "output_type": "execute_result"
    }
   ],
   "source": [
    "a.index(a)"
   ]
  },
  {
   "cell_type": "code",
   "execution_count": 109,
   "id": "59c88066",
   "metadata": {},
   "outputs": [
    {
     "data": {
      "text/plain": [
       "18"
      ]
     },
     "execution_count": 109,
     "metadata": {},
     "output_type": "execute_result"
    }
   ],
   "source": [
    "a=\"all things bright and beautiful all creatures great and small\"\n",
    "a.index(\"and\",3)"
   ]
  },
  {
   "cell_type": "markdown",
   "id": "b7220ceb",
   "metadata": {},
   "source": [
    "# .captilise()and swap case()"
   ]
  },
  {
   "cell_type": "code",
   "execution_count": 112,
   "id": "e1af5c3e",
   "metadata": {},
   "outputs": [
    {
     "data": {
      "text/plain": [
       "'Welcome to the united states of america'"
      ]
     },
     "execution_count": 112,
     "metadata": {},
     "output_type": "execute_result"
    }
   ],
   "source": [
    "a=\"welcome to THe United States Of america\"\n",
    "a.capitalize()# it makes only the first letter captial and alwords lower"
   ]
  },
  {
   "cell_type": "code",
   "execution_count": 113,
   "id": "870aa49c",
   "metadata": {},
   "outputs": [
    {
     "data": {
      "text/plain": [
       "'WELCOME TO thE uNITED sTATES oF AMERICA'"
      ]
     },
     "execution_count": 113,
     "metadata": {},
     "output_type": "execute_result"
    }
   ],
   "source": [
    "a=\"welcome to THe United States Of america\"\n",
    "a.swapcase()# it converts upper letters to lower letters and vive versa"
   ]
  },
  {
   "cell_type": "code",
   "execution_count": null,
   "id": "c68cf991",
   "metadata": {},
   "outputs": [],
   "source": []
  },
  {
   "cell_type": "code",
   "execution_count": null,
   "id": "2cfeca0b",
   "metadata": {},
   "outputs": [],
   "source": []
  },
  {
   "cell_type": "code",
   "execution_count": null,
   "id": "f439646f",
   "metadata": {},
   "outputs": [],
   "source": []
  },
  {
   "cell_type": "code",
   "execution_count": 26,
   "id": "3a6fc93d",
   "metadata": {},
   "outputs": [
    {
     "data": {
      "text/plain": [
       "('e', ' ', 'elcome to smec ', 'e')"
      ]
     },
     "execution_count": 26,
     "metadata": {},
     "output_type": "execute_result"
    }
   ],
   "source": [
    "a =\"welcome to smec \"\n",
    "a[1],a[-1],a[1:],a[1:2:4]"
   ]
  },
  {
   "cell_type": "markdown",
   "id": "fd0b7c1a",
   "metadata": {},
   "source": [
    "# seq[star:stop:step]"
   ]
  },
  {
   "cell_type": "code",
   "execution_count": 44,
   "id": "906e8273",
   "metadata": {},
   "outputs": [
    {
     "data": {
      "text/plain": [
       "'sathya is handsome guy'"
      ]
     },
     "execution_count": 44,
     "metadata": {},
     "output_type": "execute_result"
    }
   ],
   "source": [
    "a= \"sathya is handsome guy\"\n",
    "a[:]\n"
   ]
  },
  {
   "cell_type": "code",
   "execution_count": 45,
   "id": "d84910b7",
   "metadata": {},
   "outputs": [
    {
     "data": {
      "text/plain": [
       "'sathya '"
      ]
     },
     "execution_count": 45,
     "metadata": {},
     "output_type": "execute_result"
    }
   ],
   "source": [
    "a[0:7]"
   ]
  },
  {
   "cell_type": "code",
   "execution_count": 46,
   "id": "a53d4efe",
   "metadata": {},
   "outputs": [
    {
     "data": {
      "text/plain": [
       "'yug emosdnah si ayhtas'"
      ]
     },
     "execution_count": 46,
     "metadata": {},
     "output_type": "execute_result"
    }
   ],
   "source": [
    "a[::-1]"
   ]
  },
  {
   "cell_type": "code",
   "execution_count": 33,
   "id": "7139c93f",
   "metadata": {},
   "outputs": [
    {
     "data": {
      "text/plain": [
       "'sty '"
      ]
     },
     "execution_count": 33,
     "metadata": {},
     "output_type": "execute_result"
    }
   ],
   "source": [
    "a[0:7:2]"
   ]
  },
  {
   "cell_type": "code",
   "execution_count": 37,
   "id": "8f73b914",
   "metadata": {},
   "outputs": [
    {
     "data": {
      "text/plain": [
       "'y'"
      ]
     },
     "execution_count": 37,
     "metadata": {},
     "output_type": "execute_result"
    }
   ],
   "source": [
    "a[-1::]"
   ]
  },
  {
   "cell_type": "code",
   "execution_count": 42,
   "id": "720e3849",
   "metadata": {},
   "outputs": [
    {
     "data": {
      "text/plain": [
       "[7, 6, 5, 4, 4, 3, 2, 1]"
      ]
     },
     "execution_count": 42,
     "metadata": {},
     "output_type": "execute_result"
    }
   ],
   "source": [
    "ab=[1,2,3,4,4,5,6,7]\n",
    "ab[::-1]"
   ]
  },
  {
   "cell_type": "markdown",
   "id": "3567e14e",
   "metadata": {},
   "source": [
    "# membership"
   ]
  },
  {
   "cell_type": "code",
   "execution_count": 38,
   "id": "f10bbc4e",
   "metadata": {},
   "outputs": [
    {
     "data": {
      "text/plain": [
       "True"
      ]
     },
     "execution_count": 38,
     "metadata": {},
     "output_type": "execute_result"
    }
   ],
   "source": [
    "\"s\" in \"sathya\"\n"
   ]
  },
  {
   "cell_type": "code",
   "execution_count": 39,
   "id": "80313813",
   "metadata": {},
   "outputs": [
    {
     "data": {
      "text/plain": [
       "False"
      ]
     },
     "execution_count": 39,
     "metadata": {},
     "output_type": "execute_result"
    }
   ],
   "source": [
    "\"A\"in \"sathya\""
   ]
  },
  {
   "cell_type": "markdown",
   "id": "f62cd28d",
   "metadata": {},
   "source": [
    "# different ways of using strings"
   ]
  },
  {
   "cell_type": "code",
   "execution_count": 44,
   "id": "4996593e",
   "metadata": {},
   "outputs": [
    {
     "name": "stdout",
     "output_type": "stream",
     "text": [
      "hello\n",
      "hello\n",
      "hello sathya\n",
      "hello\tMr.sathya\n",
      "Welcome\n"
     ]
    }
   ],
   "source": [
    "g1=(\"hello\")\n",
    "g2='hello'\n",
    "g3=\"\"\"hello sathya\"\"\"\n",
    "g4=\"hello\\tMr.sathya\\nWelcome\" #\\t is used to get space(tab)\n",
    "print(g1)                      #/n takes to the next line\n",
    "print(g2)\n",
    "print(g3)\n",
    "print(g4)"
   ]
  },
  {
   "cell_type": "markdown",
   "id": "723e39ce",
   "metadata": {},
   "source": [
    "# string concatenation"
   ]
  },
  {
   "cell_type": "code",
   "execution_count": 46,
   "id": "3d501dc4",
   "metadata": {},
   "outputs": [
    {
     "data": {
      "text/plain": [
       "'hello  python  world'"
      ]
     },
     "execution_count": 46,
     "metadata": {},
     "output_type": "execute_result"
    }
   ],
   "source": [
    "sci=\"hello  \" 'python  '\"world\"\n",
    "sci"
   ]
  },
  {
   "cell_type": "code",
   "execution_count": 49,
   "id": "d64d4854",
   "metadata": {},
   "outputs": [
    {
     "data": {
      "text/plain": [
       "'nadendar  dhamodhar  das modi'"
      ]
     },
     "execution_count": 49,
     "metadata": {},
     "output_type": "execute_result"
    }
   ],
   "source": [
    "modi=\"nadendar\" + \" \"  + \" dhamodhar \" + \" das\"+\" modi\"\n",
    "modi"
   ]
  },
  {
   "cell_type": "code",
   "execution_count": 53,
   "id": "1189e574",
   "metadata": {},
   "outputs": [
    {
     "data": {
      "text/plain": [
       "\"st. martin's engineering college\""
      ]
     },
     "execution_count": 53,
     "metadata": {},
     "output_type": "execute_result"
    }
   ],
   "source": [
    "clg=\"st. \"+\"martin's \" +\"engineering \"+\"college\"\n",
    "clg"
   ]
  },
  {
   "cell_type": "markdown",
   "id": "c770b02a",
   "metadata": {},
   "source": [
    "# .lower and .casefold\n"
   ]
  },
  {
   "cell_type": "code",
   "execution_count": 63,
   "id": "b4287d7b",
   "metadata": {},
   "outputs": [
    {
     "name": "stdout",
     "output_type": "stream",
     "text": [
      "sathya\n",
      "sathya\n",
      "SATHYA\n"
     ]
    }
   ],
   "source": [
    "a = \"SATHYA\"\n",
    "b=\"SaTHya\"\n",
    "e=\"sathya\"\n",
    "d= a.lower()\n",
    "f=b.lower()\n",
    "g=e.upper()\n",
    "\n",
    "print(d)\n",
    "print(f)\n",
    "print(g)"
   ]
  },
  {
   "cell_type": "code",
   "execution_count": 68,
   "id": "3528b2a1",
   "metadata": {},
   "outputs": [
    {
     "name": "stdout",
     "output_type": "stream",
     "text": [
      "an apple a day$ \n",
      "an apple a day$ \n"
     ]
    }
   ],
   "source": [
    "c=\"An Apple A DAy$ \"\n",
    "d=c.casefold() # used for caseless comparision\n",
    "e=c.lower() # used for uppercase to lower case conversion\n",
    "print(d) \n",
    "print(e)"
   ]
  },
  {
   "cell_type": "code",
   "execution_count": null,
   "id": "6a56dd55",
   "metadata": {},
   "outputs": [],
   "source": []
  },
  {
   "cell_type": "markdown",
   "id": "69ffac6e",
   "metadata": {},
   "source": [
    "# .title() and .istitle"
   ]
  },
  {
   "cell_type": "code",
   "execution_count": 72,
   "id": "ca17ba8b",
   "metadata": {},
   "outputs": [
    {
     "data": {
      "text/plain": [
       "'Hello Everybody, Very Good Morning'"
      ]
     },
     "execution_count": 72,
     "metadata": {},
     "output_type": "execute_result"
    }
   ],
   "source": [
    "c=\"hello everybody, very good morning\"\n",
    "e=c.title()\n",
    "e"
   ]
  },
  {
   "cell_type": "code",
   "execution_count": 73,
   "id": "1737d5de",
   "metadata": {},
   "outputs": [
    {
     "data": {
      "text/plain": [
       "True"
      ]
     },
     "execution_count": 73,
     "metadata": {},
     "output_type": "execute_result"
    }
   ],
   "source": [
    "q='Hello Everybody, Very Good Morning'\n",
    "q.istitle()"
   ]
  },
  {
   "cell_type": "code",
   "execution_count": 74,
   "id": "48961b58",
   "metadata": {},
   "outputs": [
    {
     "data": {
      "text/plain": [
       "False"
      ]
     },
     "execution_count": 74,
     "metadata": {},
     "output_type": "execute_result"
    }
   ],
   "source": [
    "c=\"hello everybody, very good morning\"\n",
    "c.istitle()"
   ]
  },
  {
   "cell_type": "code",
   "execution_count": 78,
   "id": "2a438c07",
   "metadata": {},
   "outputs": [
    {
     "data": {
      "text/plain": [
       "'If You Work Hard You Will Settle In The Usa'"
      ]
     },
     "execution_count": 78,
     "metadata": {},
     "output_type": "execute_result"
    }
   ],
   "source": [
    "import string\n",
    "a=\"if you work hard you will settle in the USA\" # it converts the title word \n",
    "                                                #to upper case\n",
    "string.capwords(a)\n"
   ]
  },
  {
   "cell_type": "markdown",
   "id": "cbd22ceb",
   "metadata": {},
   "source": [
    "# .strip lstrip .rstrip"
   ]
  },
  {
   "cell_type": "code",
   "execution_count": 83,
   "id": "09b34731",
   "metadata": {},
   "outputs": [
    {
     "data": {
      "text/plain": [
       "'thrive'"
      ]
     },
     "execution_count": 83,
     "metadata": {},
     "output_type": "execute_result"
    }
   ],
   "source": [
    "a= \" thrive \"#removes the end spaces\n",
    "a.strip()"
   ]
  },
  {
   "cell_type": "code",
   "execution_count": 88,
   "id": "3a3beb1e",
   "metadata": {},
   "outputs": [
    {
     "data": {
      "text/plain": [
       "'thriv'"
      ]
     },
     "execution_count": 88,
     "metadata": {},
     "output_type": "execute_result"
    }
   ],
   "source": [
    "c=\"thrive\"\n",
    "c.rstrip(\"e\")"
   ]
  },
  {
   "cell_type": "code",
   "execution_count": 90,
   "id": "28d1ff88",
   "metadata": {},
   "outputs": [
    {
     "data": {
      "text/plain": [
       "'hrive'"
      ]
     },
     "execution_count": 90,
     "metadata": {},
     "output_type": "execute_result"
    }
   ],
   "source": [
    "c=\"thrive\"\n",
    "c.lstrip(\"t\")"
   ]
  },
  {
   "cell_type": "code",
   "execution_count": 94,
   "id": "48801826",
   "metadata": {},
   "outputs": [
    {
     "data": {
      "text/plain": [
       "'thrivehehehe'"
      ]
     },
     "execution_count": 94,
     "metadata": {},
     "output_type": "execute_result"
    }
   ],
   "source": [
    "c=\"thrivehehehe\"\n",
    "c.strip(\"h\")"
   ]
  },
  {
   "cell_type": "code",
   "execution_count": 96,
   "id": "57d0b023",
   "metadata": {},
   "outputs": [
    {
     "data": {
      "text/plain": [
       "'thrive'"
      ]
     },
     "execution_count": 96,
     "metadata": {},
     "output_type": "execute_result"
    }
   ],
   "source": [
    "c=\"thrive\"\n",
    "c.lstrip(\"h\")"
   ]
  },
  {
   "cell_type": "code",
   "execution_count": 97,
   "id": "67008580",
   "metadata": {},
   "outputs": [
    {
     "data": {
      "text/plain": [
       "'sas.com'"
      ]
     },
     "execution_count": 97,
     "metadata": {},
     "output_type": "execute_result"
    }
   ],
   "source": [
    "a=\"www.sas.com\"#strips upto www.\n",
    "a.lstrip(\"w.\")"
   ]
  },
  {
   "cell_type": "code",
   "execution_count": 100,
   "id": "0acb111b",
   "metadata": {},
   "outputs": [
    {
     "data": {
      "text/plain": [
       "'www.sas'"
      ]
     },
     "execution_count": 100,
     "metadata": {},
     "output_type": "execute_result"
    }
   ],
   "source": [
    "a=\"www.sas.com\"#strips .com.\n",
    "a.rstrip(\".com\")"
   ]
  },
  {
   "cell_type": "code",
   "execution_count": 102,
   "id": "37a99cdb",
   "metadata": {},
   "outputs": [
    {
     "data": {
      "text/plain": [
       "''"
      ]
     },
     "execution_count": 102,
     "metadata": {},
     "output_type": "execute_result"
    }
   ],
   "source": [
    "a=\"www.sas.com\"#strips upto www.\n",
    "a.lstrip(\"www.sas.com\")"
   ]
  },
  {
   "cell_type": "code",
   "execution_count": 104,
   "id": "ef32e5e8",
   "metadata": {},
   "outputs": [
    {
     "data": {
      "text/plain": [
       "'misss'"
      ]
     },
     "execution_count": 104,
     "metadata": {},
     "output_type": "execute_result"
    }
   ],
   "source": [
    "q=\"misssipzipz\"\n",
    "q.rstrip(\"ipz\")"
   ]
  },
  {
   "cell_type": "markdown",
   "id": "61b396cd",
   "metadata": {},
   "source": [
    "# Strings"
   ]
  },
  {
   "cell_type": "code",
   "execution_count": 2,
   "id": "68ccbd8e",
   "metadata": {},
   "outputs": [
    {
     "name": "stdout",
     "output_type": "stream",
     "text": [
      "welcome to my world\n",
      "welcome to my world\n",
      "welcome to my world\n",
      "welcome\t to\tmy\n",
      "world\n"
     ]
    }
   ],
   "source": [
    "G1='welcome to my world'\n",
    "G2=\"welcome to my world\"\n",
    "G3=\"\"\"welcome to my world\"\"\"\n",
    "G4=\"welcome\\t to\\tmy\\nworld\" #|t puts tab and \\n puts new line\n",
    "print(G1)\n",
    "print(G2)\n",
    "print(G3)\n",
    "print(G4)\n"
   ]
  },
  {
   "cell_type": "markdown",
   "id": "d44d2263",
   "metadata": {},
   "source": [
    "# String Deliminators"
   ]
  },
  {
   "cell_type": "code",
   "execution_count": 3,
   "id": "d20b44d6",
   "metadata": {},
   "outputs": [
    {
     "data": {
      "text/plain": [
       "\"I want to become world's best Entreprenuer\""
      ]
     },
     "execution_count": 3,
     "metadata": {},
     "output_type": "execute_result"
    }
   ],
   "source": [
    "goal=\"I want to become world's best Entreprenuer\"\n",
    "goal"
   ]
  },
  {
   "cell_type": "code",
   "execution_count": 4,
   "id": "e6814517",
   "metadata": {},
   "outputs": [
    {
     "data": {
      "text/plain": [
       "\"I want to become world's best Entreprenuer\""
      ]
     },
     "execution_count": 4,
     "metadata": {},
     "output_type": "execute_result"
    }
   ],
   "source": [
    "goal='I want to become world\\'s best Entreprenuer' #we use \\ as adeeliminator\n",
    "goal"
   ]
  },
  {
   "cell_type": "code",
   "execution_count": 5,
   "id": "3cef5f18",
   "metadata": {},
   "outputs": [
    {
     "ename": "SyntaxError",
     "evalue": "EOL while scanning string literal (Temp/ipykernel_27012/3233396434.py, line 1)",
     "output_type": "error",
     "traceback": [
      "\u001b[1;36m  File \u001b[1;32m\"C:\\Users\\User\\AppData\\Local\\Temp/ipykernel_27012/3233396434.py\"\u001b[1;36m, line \u001b[1;32m1\u001b[0m\n\u001b[1;33m    text1=\"strings can be of 4 types:\u001b[0m\n\u001b[1;37m                                     ^\u001b[0m\n\u001b[1;31mSyntaxError\u001b[0m\u001b[1;31m:\u001b[0m EOL while scanning string literal\n"
     ]
    }
   ],
   "source": [
    "text1=\"strings can be of 4 types:\n",
    "1.single quotes\n",
    "2.double quotes\n",
    "3.single triple quotes\n",
    "4.double triple quotes\"\n",
    "print(text1)"
   ]
  },
  {
   "cell_type": "code",
   "execution_count": 6,
   "id": "ca557cb1",
   "metadata": {},
   "outputs": [
    {
     "name": "stdout",
     "output_type": "stream",
     "text": [
      "strings can be of 4 types:1.single quotes2.double quotes3.single triple quotes4.double triple quotes\n"
     ]
    }
   ],
   "source": [
    "text1=\"strings can be of 4 types:\\\n",
    "1.single quotes\\\n",
    "2.double quotes\\\n",
    "3.single triple quotes\\\n",
    "4.double triple quotes\"\n",
    "print(text1)"
   ]
  },
  {
   "cell_type": "code",
   "execution_count": 8,
   "id": "17fef84d",
   "metadata": {},
   "outputs": [
    {
     "name": "stdout",
     "output_type": "stream",
     "text": [
      "strings can be of 4 types:\n",
      "1.single quotes\n",
      "2.double quotes\n",
      "3.single triple quotes\n",
      "4.double triple quotes\n"
     ]
    }
   ],
   "source": [
    "text1='''strings can be of 4 types:\n",
    "1.single quotes\n",
    "2.double quotes\n",
    "3.single triple quotes\n",
    "4.double triple quotes'''\n",
    "print(text1)"
   ]
  },
  {
   "cell_type": "code",
   "execution_count": null,
   "id": "d9d7453b",
   "metadata": {},
   "outputs": [],
   "source": []
  },
  {
   "cell_type": "code",
   "execution_count": null,
   "id": "ba6d4cfe",
   "metadata": {},
   "outputs": [],
   "source": []
  },
  {
   "cell_type": "code",
   "execution_count": null,
   "id": "74555a22",
   "metadata": {},
   "outputs": [],
   "source": []
  },
  {
   "cell_type": "code",
   "execution_count": null,
   "id": "d1e50afe",
   "metadata": {},
   "outputs": [],
   "source": []
  },
  {
   "cell_type": "code",
   "execution_count": null,
   "id": "58f8bfda",
   "metadata": {},
   "outputs": [],
   "source": []
  }
 ],
 "metadata": {
  "kernelspec": {
   "display_name": "Python 3 (ipykernel)",
   "language": "python",
   "name": "python3"
  },
  "language_info": {
   "codemirror_mode": {
    "name": "ipython",
    "version": 3
   },
   "file_extension": ".py",
   "mimetype": "text/x-python",
   "name": "python",
   "nbconvert_exporter": "python",
   "pygments_lexer": "ipython3",
   "version": "3.9.9"
  }
 },
 "nbformat": 4,
 "nbformat_minor": 5
}
