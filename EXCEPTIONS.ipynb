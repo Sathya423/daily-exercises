{
 "cells": [
  {
   "cell_type": "code",
   "execution_count": 9,
   "id": "021a9e86",
   "metadata": {},
   "outputs": [
    {
     "name": "stdout",
     "output_type": "stream",
     "text": [
      "enter a number1:2\n",
      "enter the number2:3\n",
      "a/b=0\n"
     ]
    }
   ],
   "source": [
    "try:\n",
    "    a=int(input(\"enter a number1:\"))\n",
    "    b=int(input(\"enter the number2:\"))\n",
    "    c=a/b\n",
    "    #print (\" the required  ans is :\",c)\n",
    "    print(\"a/b=%d\" %c)\n",
    "except:\n",
    "    print(\"invalid operation\")"
   ]
  },
  {
   "cell_type": "code",
   "execution_count": 7,
   "id": "11034a68",
   "metadata": {},
   "outputs": [
    {
     "name": "stdout",
     "output_type": "stream",
     "text": [
      "enter a number1:2\n",
      "enter the number2:0\n",
      "invalid operation\n"
     ]
    }
   ],
   "source": [
    "try:\n",
    "    a=int(input(\"enter a number1:\"))\n",
    "    b=int(input(\"enter the number2:\"))\n",
    "    c=a/b\n",
    "    #print (\" the required  ans is :\",c)\n",
    "    print(\"a/b=%d\" %c)\n",
    "except:\n",
    "    print(\"invalid operation\")"
   ]
  },
  {
   "cell_type": "code",
   "execution_count": 10,
   "id": "bf34fde3",
   "metadata": {},
   "outputs": [
    {
     "name": "stdout",
     "output_type": "stream",
     "text": [
      "enter a number1:1,3\n",
      "invalid operation\n"
     ]
    }
   ],
   "source": [
    "try:\n",
    "    a=int(input(\"enter a number1:\"))\n",
    "    b=int(input(\"enter the number2:\"))\n",
    "    c=a/b\n",
    "    #print (\" the required  ans is :\",c)\n",
    "    print(\"a/b=%d\" %c)\n",
    "except:\n",
    "    print(\"invalid operation\")"
   ]
  },
  {
   "cell_type": "code",
   "execution_count": 17,
   "id": "31eb20ac",
   "metadata": {},
   "outputs": [
    {
     "name": "stdout",
     "output_type": "stream",
     "text": [
      "enter a number1:1\n",
      "enter the number2:2\n",
      "a/b=1\n",
      " i'm in th eelse block\n"
     ]
    }
   ],
   "source": [
    "try:\n",
    "    a=int(input(\"enter a number1:\"))\n",
    "    b=int(input(\"enter the number2:\"))\n",
    "    c=a%b\n",
    "    #print (\" the required  ans is :\",c)\n",
    "    print(\"a/b=%d\" %c)\n",
    "except:\n",
    "    print(\"invalid operation\")\n",
    "else:\n",
    "    print(\" i'm in th eelse block\")"
   ]
  },
  {
   "cell_type": "code",
   "execution_count": 18,
   "id": "a19152ca",
   "metadata": {},
   "outputs": [
    {
     "name": "stdout",
     "output_type": "stream",
     "text": [
      "enter a number1:1\n",
      "enter the number2:0\n",
      "invalid operation\n"
     ]
    }
   ],
   "source": [
    "try:\n",
    "    a=int(input(\"enter a number1:\"))\n",
    "    b=int(input(\"enter the number2:\"))\n",
    "    c=a%b\n",
    "    #print (\" the required  ans is :\",c)\n",
    "    print(\"a/b=%d\" %c)\n",
    "except:\n",
    "    print(\"invalid operation\")\n",
    "else:\n",
    "    print(\" i'm in th eelse block\")"
   ]
  },
  {
   "cell_type": "code",
   "execution_count": 19,
   "id": "a7b3783d",
   "metadata": {},
   "outputs": [
    {
     "name": "stdout",
     "output_type": "stream",
     "text": [
      "enter a number1:1\n",
      "enter the number2:0\n",
      "invalid operation\n",
      "hello\n"
     ]
    }
   ],
   "source": [
    "try:\n",
    "    a=int(input(\"enter a number1:\"))\n",
    "    b=int(input(\"enter the number2:\"))\n",
    "    c=a%b\n",
    "    #print (\" the required  ans is :\",c)\n",
    "    print(\"a/b=%d\" %c)\n",
    "except:\n",
    "    print(\"invalid operation\")\n",
    "else:\n",
    "    print(\" i'm in th eelse block\")\n",
    "finally:\n",
    "        print(\"hello\")"
   ]
  },
  {
   "cell_type": "code",
   "execution_count": 20,
   "id": "5f16f0d1",
   "metadata": {},
   "outputs": [
    {
     "name": "stdout",
     "output_type": "stream",
     "text": [
      "enter a number1:1\n",
      "enter the number2:1\n",
      "a/b=0\n",
      " i'm in th eelse block\n",
      "hello\n"
     ]
    }
   ],
   "source": [
    "try:\n",
    "    a=int(input(\"enter a number1:\"))\n",
    "    b=int(input(\"enter the number2:\"))\n",
    "    c=a%b\n",
    "    #print (\" the required  ans is :\",c)\n",
    "    print(\"a/b=%d\" %c)\n",
    "except: #if we have got an error it excepts yhe error  and jumps directly to the finnal statement.by ignoring the else statement\n",
    "    print(\"invalid operation\")\n",
    "else: # else block wii be excuted if there is exception\n",
    "    print(\" i'm in th eelse block\")\n",
    "finally:# it excutes  compulsarly\n",
    "        print(\"hello\")"
   ]
  },
  {
   "cell_type": "code",
   "execution_count": 35,
   "id": "86ada1f6",
   "metadata": {},
   "outputs": [
    {
     "ename": "TypeError",
     "evalue": "unsupported operand type(s) for /: 'tuple' and 'int'",
     "output_type": "error",
     "traceback": [
      "\u001b[1;31m---------------------------------------------------------------------------\u001b[0m",
      "\u001b[1;31mTypeError\u001b[0m                                 Traceback (most recent call last)",
      "\u001b[1;32m~\\AppData\\Local\\Temp/ipykernel_18600/608041689.py\u001b[0m in \u001b[0;36m<module>\u001b[1;34m\u001b[0m\n\u001b[0;32m      1\u001b[0m \u001b[1;32mtry\u001b[0m\u001b[1;33m:\u001b[0m\u001b[1;33m\u001b[0m\u001b[1;33m\u001b[0m\u001b[0m\n\u001b[1;32m----> 2\u001b[1;33m     \u001b[0ma\u001b[0m\u001b[1;33m/\u001b[0m\u001b[1;36m0\u001b[0m\u001b[1;33m\u001b[0m\u001b[1;33m\u001b[0m\u001b[0m\n\u001b[0m\u001b[0;32m      3\u001b[0m \u001b[1;32mexcept\u001b[0m\u001b[1;33m(\u001b[0m\u001b[0mArithmeticError\u001b[0m\u001b[1;33m,\u001b[0m\u001b[0mSyntaxError\u001b[0m\u001b[1;33m,\u001b[0m\u001b[0mIOError\u001b[0m\u001b[1;33m)\u001b[0m\u001b[1;33m:\u001b[0m\u001b[1;33m\u001b[0m\u001b[1;33m\u001b[0m\u001b[0m\n\u001b[0;32m      4\u001b[0m     \u001b[0mprint\u001b[0m\u001b[1;33m(\u001b[0m\u001b[1;34m\"arthematic error\"\u001b[0m\u001b[1;33m)\u001b[0m\u001b[1;33m\u001b[0m\u001b[1;33m\u001b[0m\u001b[0m\n\u001b[0;32m      5\u001b[0m \u001b[1;32melse\u001b[0m\u001b[1;33m:\u001b[0m\u001b[1;33m\u001b[0m\u001b[1;33m\u001b[0m\u001b[0m\n",
      "\u001b[1;31mTypeError\u001b[0m: unsupported operand type(s) for /: 'tuple' and 'int'"
     ]
    }
   ],
   "source": [
    "try:\n",
    "    a/0\n",
    "except(ArithmeticError,SyntaxError,IOError):\n",
    "    print(\"arthematic error\")\n",
    "else:\n",
    "    print (\"b\")\n",
    "                "
   ]
  },
  {
   "cell_type": "code",
   "execution_count": 36,
   "id": "7d9ccbc7",
   "metadata": {},
   "outputs": [
    {
     "name": "stdout",
     "output_type": "stream",
     "text": [
      "arthematic error\n"
     ]
    }
   ],
   "source": [
    "try:\n",
    "    a/0\n",
    "except(ArithmeticError,SyntaxError,TypeError,IOError):\n",
    "    print(\"arthematic error\")\n",
    "else:\n",
    "    print (\"b\")\n",
    "                "
   ]
  },
  {
   "cell_type": "code",
   "execution_count": 48,
   "id": "aae0b852",
   "metadata": {},
   "outputs": [
    {
     "ename": "IndentationError",
     "evalue": "expected an indented block (Temp/ipykernel_18600/1850543091.py, line 3)",
     "output_type": "error",
     "traceback": [
      "\u001b[1;36m  File \u001b[1;32m\"C:\\Users\\User\\AppData\\Local\\Temp/ipykernel_18600/1850543091.py\"\u001b[1;36m, line \u001b[1;32m3\u001b[0m\n\u001b[1;33m    a\u001b[0m\n\u001b[1;37m    ^\u001b[0m\n\u001b[1;31mIndentationError\u001b[0m\u001b[1;31m:\u001b[0m expected an indented block\n"
     ]
    }
   ],
   "source": [
    "try:\n",
    "  #as it not any of the (ArithmeticError,SyntaxError,TypeError,IOError)  so it is directly excuting else block\n",
    "a \n",
    "except(ArithmeticError,SyntaxError,TypeError,IndentationError,IOError):\n",
    "    print(\"arthematic error\")\n",
    "else:\n",
    "    print (\"b\")\n",
    "             "
   ]
  },
  {
   "cell_type": "code",
   "execution_count": null,
   "id": "f8c0ed7a",
   "metadata": {},
   "outputs": [],
   "source": []
  },
  {
   "cell_type": "code",
   "execution_count": null,
   "id": "6f0445a1",
   "metadata": {},
   "outputs": [],
   "source": []
  },
  {
   "cell_type": "code",
   "execution_count": null,
   "id": "841814bd",
   "metadata": {},
   "outputs": [],
   "source": []
  },
  {
   "cell_type": "code",
   "execution_count": null,
   "id": "abc143a4",
   "metadata": {},
   "outputs": [],
   "source": []
  },
  {
   "cell_type": "code",
   "execution_count": 4,
   "id": "5a672bd8",
   "metadata": {},
   "outputs": [
    {
     "name": "stdout",
     "output_type": "stream",
     "text": [
      "please enter the age:233\n",
      "your  age is invalid\n"
     ]
    }
   ],
   "source": [
    "try:\n",
    "    age= int(input(\"please enter the age:\"))\n",
    "    if (age >17):\n",
    "        raise ValueError\n",
    "    \n",
    "    else:\n",
    "        print(\"your age is valid\")\n",
    "except ValueError:\n",
    "    print(\"your  age is invalid\")\n",
    "    "
   ]
  },
  {
   "cell_type": "code",
   "execution_count": null,
   "id": "fbbfd9e6",
   "metadata": {},
   "outputs": [],
   "source": []
  }
 ],
 "metadata": {
  "kernelspec": {
   "display_name": "Python 3 (ipykernel)",
   "language": "python",
   "name": "python3"
  },
  "language_info": {
   "codemirror_mode": {
    "name": "ipython",
    "version": 3
   },
   "file_extension": ".py",
   "mimetype": "text/x-python",
   "name": "python",
   "nbconvert_exporter": "python",
   "pygments_lexer": "ipython3",
   "version": "3.9.9"
  }
 },
 "nbformat": 4,
 "nbformat_minor": 5
}
