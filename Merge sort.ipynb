{
 "cells": [
  {
   "cell_type": "code",
   "execution_count": 30,
   "id": "1b64f96d",
   "metadata": {},
   "outputs": [
    {
     "name": "stdout",
     "output_type": "stream",
     "text": [
      "[1, 3, 4, 4, 5, 6, 7, 8, 33, 34, 44]\n"
     ]
    }
   ],
   "source": [
    "def merge_sort(arr):\n",
    "    if len(arr) > 1:\n",
    "        left_arr = arr[:len(arr)//2]\n",
    "        right_arr = arr[len(arr)//2:]\n",
    "        #Recursion\n",
    "        merge_sort(left_arr)\n",
    "        merge_sort(right_arr)\n",
    "    \n",
    "        i=0  #left array index\n",
    "        j=0  #right array index\n",
    "        k=0  #merged array index\n",
    "    \n",
    "        while i < len(left_arr) and j < len(right_arr):\n",
    "            if left_arr[i] < right_arr[j]:\n",
    "                arr[k] = left_arr[i]\n",
    "                i+=1\n",
    "            else:\n",
    "                arr[k] = right_arr[j]\n",
    "                j+=1\n",
    "            k+=1 \n",
    "        while i < len(left_arr):\n",
    "            arr[k]=left_arr[i]\n",
    "            i+=1\n",
    "            k+=1\n",
    "        while j < len(right_arr):\n",
    "            arr[k]=right_arr[j]\n",
    "            j+=1\n",
    "            k+=1\n",
    "\n",
    "        \n",
    "arr_test = [1,3,4,5,6,7,8,33,34,4,44]  \n",
    "merge_sort(arr_test)\n",
    "print(arr_test)\n",
    "\n",
    "         \n",
    "\n",
    "    \n",
    "            "
   ]
  },
  {
   "cell_type": "code",
   "execution_count": null,
   "id": "5355fe77",
   "metadata": {},
   "outputs": [],
   "source": []
  },
  {
   "cell_type": "code",
   "execution_count": null,
   "id": "0e4081e8",
   "metadata": {},
   "outputs": [],
   "source": []
  }
 ],
 "metadata": {
  "kernelspec": {
   "display_name": "Python 3 (ipykernel)",
   "language": "python",
   "name": "python3"
  },
  "language_info": {
   "codemirror_mode": {
    "name": "ipython",
    "version": 3
   },
   "file_extension": ".py",
   "mimetype": "text/x-python",
   "name": "python",
   "nbconvert_exporter": "python",
   "pygments_lexer": "ipython3",
   "version": "3.9.9"
  }
 },
 "nbformat": 4,
 "nbformat_minor": 5
}
