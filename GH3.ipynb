{
 "cells": [
  {
   "cell_type": "markdown",
   "id": "06e51495",
   "metadata": {},
   "source": [
    "# program to find the square root"
   ]
  },
  {
   "cell_type": "code",
   "execution_count": 2,
   "id": "8b829daf",
   "metadata": {},
   "outputs": [
    {
     "name": "stdout",
     "output_type": "stream",
     "text": [
      "enter a no: 2333\n",
      "the square root is: 48.30113870293329\n"
     ]
    }
   ],
   "source": [
    "\n",
    "import math\n",
    "n=int(input (\"enter a no: \"))\n",
    "s=math.sqrt(n)\n",
    "print(\"the square root is:\",s)"
   ]
  },
  {
   "cell_type": "markdown",
   "id": "0f2b1a70",
   "metadata": {},
   "source": [
    "# Python Program for How to check if a given number is Fibonacci number?¶"
   ]
  },
  {
   "cell_type": "code",
   "execution_count": 4,
   "id": "81fe92c4",
   "metadata": {},
   "outputs": [
    {
     "name": "stdout",
     "output_type": "stream",
     "text": [
      "enter a number:234\n",
      "given number is not a fibonocii\n"
     ]
    }
   ],
   "source": [
    "\n",
    "\n",
    " \n",
    "import math\n",
    "n = int(input(\"enter a number:\"))\n",
    "\n",
    "b  = 5 *( n ** 2 ) + 4\n",
    "x  = 5 *( n ** 2 ) - 4\n",
    "c = math.sqrt(b)\n",
    "y= math.sqrt(x)\n",
    "d=int(c)\n",
    "z=int(y)\n",
    "if(b==(d * d)) or (x==(z*z)):\n",
    "    print(\"given number is a fibbanocii no\")\n",
    "else:\n",
    "    print(\"given number is not a fibonocii\")"
   ]
  },
  {
   "cell_type": "markdown",
   "id": "1e5ff49b",
   "metadata": {},
   "source": [
    "# program to check whether the given no is perfect square or not"
   ]
  },
  {
   "cell_type": "code",
   "execution_count": 6,
   "id": "b2f58a33",
   "metadata": {},
   "outputs": [
    {
     "ename": "SyntaxError",
     "evalue": "invalid syntax (Temp/ipykernel_21544/856074755.py, line 9)",
     "output_type": "error",
     "traceback": [
      "\u001b[1;36m  File \u001b[1;32m\"C:\\Users\\User\\AppData\\Local\\Temp/ipykernel_21544/856074755.py\"\u001b[1;36m, line \u001b[1;32m9\u001b[0m\n\u001b[1;33m    enter a no:45\u001b[0m\n\u001b[1;37m          ^\u001b[0m\n\u001b[1;31mSyntaxError\u001b[0m\u001b[1;31m:\u001b[0m invalid syntax\n"
     ]
    }
   ],
   "source": [
    "\n",
    "\n",
    "import math\n",
    "n= int((input(\"enter a no:\")))\n",
    "s=math.sqrt(n)\n",
    "m=int(s)\n",
    "if(n==(m**2)):\n",
    "        print(\"is a perfect square\")\n",
    "else:\n",
    "        print(\"not a perfect square\")\n",
    "enter a no:45\n",
    "not a perfect square"
   ]
  },
  {
   "cell_type": "code",
   "execution_count": null,
   "id": "1d28df7d",
   "metadata": {},
   "outputs": [],
   "source": []
  }
 ],
 "metadata": {
  "kernelspec": {
   "display_name": "Python 3 (ipykernel)",
   "language": "python",
   "name": "python3"
  },
  "language_info": {
   "codemirror_mode": {
    "name": "ipython",
    "version": 3
   },
   "file_extension": ".py",
   "mimetype": "text/x-python",
   "name": "python",
   "nbconvert_exporter": "python",
   "pygments_lexer": "ipython3",
   "version": "3.9.9"
  }
 },
 "nbformat": 4,
 "nbformat_minor": 5
}
