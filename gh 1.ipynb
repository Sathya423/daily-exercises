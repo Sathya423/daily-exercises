{
 "cells": [
  {
   "cell_type": "markdown",
   "id": "30fb22d1",
   "metadata": {},
   "source": [
    "# addition of two numbers"
   ]
  },
  {
   "cell_type": "code",
   "execution_count": 1,
   "id": "2617a10b",
   "metadata": {},
   "outputs": [
    {
     "name": "stdout",
     "output_type": "stream",
     "text": [
      "please enter the number1 :3\n",
      "please enter the number2 :4\n",
      "the sum of two numbers  num1 :3.0 and num2 :4.0 is :7.0\n"
     ]
    }
   ],
   "source": [
    "num1 =float(input(\"please enter the number1 :\"))\n",
    "\n",
    "num2 =float(input(\"please enter the number2 :\"))\n",
    "\n",
    "sum =num1 + num2\n",
    "\n",
    "print(\"the sum of two numbers  num1 :{} and num2 :{} is :{}\".format(num1,num2,sum))"
   ]
  },
  {
   "cell_type": "markdown",
   "id": "dd325a65",
   "metadata": {},
   "source": [
    "# maximum of two numbers¶"
   ]
  },
  {
   "cell_type": "code",
   "execution_count": 2,
   "id": "05aeff87",
   "metadata": {},
   "outputs": [
    {
     "name": "stdout",
     "output_type": "stream",
     "text": [
      " please  enter the number1: 34\n",
      " please enter the number2: 33\n",
      "greter number is: 34.0\n"
     ]
    }
   ],
   "source": [
    "num1 = float(input(\" please  enter the number1: \"))\n",
    "num2 = float(input(\" please enter the number2: \"))\n",
    "if num1 >num2:\n",
    "    print(\"greter number is:\",num1)\n",
    "else:\n",
    "        print(\"greater number is :\",num2)"
   ]
  },
  {
   "cell_type": "markdown",
   "id": "07588379",
   "metadata": {},
   "source": [
    "# factorial of a number"
   ]
  },
  {
   "cell_type": "code",
   "execution_count": 4,
   "id": "24cf5027",
   "metadata": {},
   "outputs": [
    {
     "name": "stdout",
     "output_type": "stream",
     "text": [
      "please enter the number3\n",
      "the factorial of the given number is: 6\n"
     ]
    }
   ],
   "source": [
    "fact =1\n",
    "num = int(input ( \"please enter the number\"))\n",
    "if num<0:\n",
    "    print(\"sorry we can not find the factorial of the number\")\n",
    "elif num==0:\n",
    " print (\"the factorial of 0 is :\",1)\n",
    "\n",
    "else:\n",
    "\n",
    "    for value in range(1,num +1):\n",
    " \n",
    "     fact = fact*value\n",
    "    print(\"the factorial of the given number is: {}\".format(fact))"
   ]
  },
  {
   "cell_type": "code",
   "execution_count": null,
   "id": "03f2d34f",
   "metadata": {},
   "outputs": [],
   "source": []
  }
 ],
 "metadata": {
  "kernelspec": {
   "display_name": "Python 3 (ipykernel)",
   "language": "python",
   "name": "python3"
  },
  "language_info": {
   "codemirror_mode": {
    "name": "ipython",
    "version": 3
   },
   "file_extension": ".py",
   "mimetype": "text/x-python",
   "name": "python",
   "nbconvert_exporter": "python",
   "pygments_lexer": "ipython3",
   "version": "3.9.9"
  }
 },
 "nbformat": 4,
 "nbformat_minor": 5
}
