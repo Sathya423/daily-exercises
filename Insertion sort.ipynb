{
 "cells": [
  {
   "cell_type": "markdown",
   "id": "93180b49",
   "metadata": {},
   "source": [
    "The insertion sort implementation is easy and simple because it's generally taught in the beginning programming lesson. It is an in-place and stable algorithm that is more beneficial for nearly-sorted or fewer elements.\n",
    "\n",
    "The insertion sort algorithm is not so fast because of it uses nested loop for sort the elements.\n",
    "\n",
    "Let's understand the following terms.\n",
    "\n",
    "What is the meaning of in-place and stable?\n",
    "In-place: The in-place algorithm requires additional space without caring for the input size of the collection. After performing the sorting, it rewrites the original memory locations of the elements in the collection.\n",
    "Stable: The stable is a term that manages the relative order of equal objects from the initial array.\n",
    "The more important thing, the insertion sort doesn't require to know the array size in advance and it receives the one element at a time.\n",
    "\n",
    "The great thing about the insertion sort is if we insert the more elements to be sorted - the algorithm arranges the in its proper place without performing the complete sort.\n",
    "\n",
    "It is more efficient for the small (less than 10) size array. Now, let's understand the concepts of insertion sort."
   ]
  },
  {
   "cell_type": "code",
   "execution_count": 8,
   "id": "d22e8fb9",
   "metadata": {},
   "outputs": [
    {
     "name": "stdout",
     "output_type": "stream",
     "text": [
      "[1, 5, 11, 22, 43, 44, 44, 44, 55, 66, 99]\n"
     ]
    }
   ],
   "source": [
    "\n",
    "def insertion_sort(arr):\n",
    "    for i in range(1,len(arr)) :\n",
    "        j = i\n",
    "        while arr[j-1] >arr[j] and j>0:\n",
    "            arr[j-1],arr[j]=arr[j],arr[j-1]\n",
    "            j-=1\n",
    "            \n",
    "            \n",
    "    \n",
    "arr=[99,44,22,44,11,55,66,5,1,44,43]\n",
    "insertion_sort(arr)\n",
    "print(arr)"
   ]
  },
  {
   "cell_type": "markdown",
   "id": "4e392bdb",
   "metadata": {},
   "source": []
  },
  {
   "cell_type": "code",
   "execution_count": null,
   "id": "5b9317e3",
   "metadata": {},
   "outputs": [],
   "source": []
  }
 ],
 "metadata": {
  "kernelspec": {
   "display_name": "Python 3 (ipykernel)",
   "language": "python",
   "name": "python3"
  },
  "language_info": {
   "codemirror_mode": {
    "name": "ipython",
    "version": 3
   },
   "file_extension": ".py",
   "mimetype": "text/x-python",
   "name": "python",
   "nbconvert_exporter": "python",
   "pygments_lexer": "ipython3",
   "version": "3.9.9"
  }
 },
 "nbformat": 4,
 "nbformat_minor": 5
}
