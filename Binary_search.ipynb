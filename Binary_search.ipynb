{
 "cells": [
  {
   "cell_type": "code",
   "execution_count": 17,
   "id": "b62d8b11",
   "metadata": {},
   "outputs": [
    {
     "name": "stdout",
     "output_type": "stream",
     "text": [
      "Element is present at index 4\n"
     ]
    }
   ],
   "source": [
    "#Iterative Binary Search Function method Python Implementation  \n",
    "# It returns index of n in given list1 if present,   \n",
    "# else returns -1 \n",
    "def binary_search(list1,n):\n",
    "    low=0\n",
    "    high=len(list1)-1\n",
    "    mid=0\n",
    "    while low <= high:\n",
    "        mid = (low + high) // 2 # for getting the integer value\n",
    "        \n",
    "        if list1[mid] < n: \n",
    "            low=mid+1\n",
    "        \n",
    "        elif list1[mid] > n:\n",
    "            high=mid-1\n",
    "        else:\n",
    "            return mid\n",
    "    return -1\n",
    "list1 = [12, 24, 32, 39, 45, 50, 54]  \n",
    "n = 45  \n",
    "  \n",
    "# Function call   \n",
    "result = binary_search(list1,n)  \n",
    "  \n",
    "if result != -1:  \n",
    "    print(\"Element is present at index\", str(result))  \n",
    "else:  \n",
    "    print(\"Element is not present in list1\")  \n",
    "    "
   ]
  },
  {
   "cell_type": "code",
   "execution_count": null,
   "id": "82718d05",
   "metadata": {},
   "outputs": [],
   "source": []
  }
 ],
 "metadata": {
  "kernelspec": {
   "display_name": "Python 3 (ipykernel)",
   "language": "python",
   "name": "python3"
  },
  "language_info": {
   "codemirror_mode": {
    "name": "ipython",
    "version": 3
   },
   "file_extension": ".py",
   "mimetype": "text/x-python",
   "name": "python",
   "nbconvert_exporter": "python",
   "pygments_lexer": "ipython3",
   "version": "3.9.9"
  }
 },
 "nbformat": 4,
 "nbformat_minor": 5
}
