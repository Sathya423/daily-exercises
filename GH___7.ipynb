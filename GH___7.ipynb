{
 "cells": [
  {
   "cell_type": "markdown",
   "id": "596bf88a",
   "metadata": {},
   "source": [
    "# Python program to find N largest elements from a list\n",
    "\n",
    "    "
   ]
  },
  {
   "cell_type": "code",
   "execution_count": null,
   "id": "3fddc913",
   "metadata": {},
   "outputs": [],
   "source": [
    "n=int(input('enter the number of elements:'))\n",
    "list=[]\n",
    "N=int(input(\"enter the number of largest elements : \"))\n",
    "for ele in range(0,n):\n",
    "    ele=int(input(\"enter the element:\" ))\n",
    "    list.append(ele)\n",
    "    print(list)\n",
    "    list.sort()\n",
    "    print(list[-N:])\n",
    "    "
   ]
  },
  {
   "cell_type": "code",
   "execution_count": null,
   "id": "d87d679c",
   "metadata": {},
   "outputs": [],
   "source": [
    "Python program to print even numbers in a list\n",
    "num=int(input(\"enter the number of elements\"))\n",
    "list1=[]\n",
    "for ele in range(num):\n",
    "    ele=int(input(\"enter the element:\"))\n",
    "    list1.append(ele)\n",
    "    print(list1)\n",
    "    for num in list1:\n",
    "        if num % 2 == 0:\n",
    "            list2=[]\n",
    "            list2.append(num)\n",
    "            print(list2,end=\" \")\n",
    "           # print(\"the even numbers are \",listnum,end=\" \")"
   ]
  }
 ],
 "metadata": {
  "kernelspec": {
   "display_name": "Python 3 (ipykernel)",
   "language": "python",
   "name": "python3"
  },
  "language_info": {
   "codemirror_mode": {
    "name": "ipython",
    "version": 3
   },
   "file_extension": ".py",
   "mimetype": "text/x-python",
   "name": "python",
   "nbconvert_exporter": "python",
   "pygments_lexer": "ipython3",
   "version": "3.9.9"
  }
 },
 "nbformat": 4,
 "nbformat_minor": 5
}
