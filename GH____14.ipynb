{
 "cells": [
  {
   "cell_type": "markdown",
   "id": "342b38ca",
   "metadata": {},
   "source": [
    "# Python program to check whether the given string is Binary or Not"
   ]
  },
  {
   "cell_type": "code",
   "execution_count": 1,
   "id": "58987f49",
   "metadata": {},
   "outputs": [
    {
     "name": "stdout",
     "output_type": "stream",
     "text": [
      "Given text is not Binary\n"
     ]
    }
   ],
   "source": [
    "\n",
    "bits=\"01\"\n",
    "def Binary_(text):\n",
    "    for t in text:\n",
    "        if t not in bits:\n",
    "            return False\n",
    "    return True\n",
    "text=\"Sathya123\"\n",
    "if Binary_(text)==True:\n",
    "    print(\"given string is Binary\")\n",
    "else:\n",
    "    print(\"Given text is not Binary\")"
   ]
  },
  {
   "cell_type": "markdown",
   "id": "3122245c",
   "metadata": {},
   "source": [
    "# Python program to split and join a string"
   ]
  },
  {
   "cell_type": "code",
   "execution_count": 3,
   "id": "6ec57263",
   "metadata": {},
   "outputs": [
    {
     "name": "stdout",
     "output_type": "stream",
     "text": [
      "['I', 'wanted', 'to', 'see', 'myself', 'as', 'an', 'Entrapuenuer']\n",
      "I wanted to see myself as an Entrapuenuer\n"
     ]
    }
   ],
   "source": [
    "\n",
    " \n",
    "str=\"I wanted to see myself as an Entrapuenuer\"\n",
    "strp=str.split(\" \")  #splits the string\n",
    "print(strp)\n",
    "\n",
    "strj=\" \".join(strp) #joins the string\n",
    "print(strj)"
   ]
  },
  {
   "cell_type": "markdown",
   "id": "b63bbc8f",
   "metadata": {},
   "source": [
    "# Python program for removing i-th character from a string"
   ]
  },
  {
   "cell_type": "code",
   "execution_count": null,
   "id": "b8c78885",
   "metadata": {},
   "outputs": [],
   "source": [
    "\n",
    "str=\"welcome to st.martin's Enginering college\"\n",
    "i=0\n",
    "def remove(str,i):\n",
    "    a=str[:i]\n",
    "    b=str[i+1:]\n",
    "str=\"welcome to st.martin's Enginering college\"\n",
    "i=0\n",
    "def remove(str,i):\n",
    "    a=str[:i]\n",
    "    b=str[i+1:]\n",
    "    return a+b\n",
    "print(str)\n",
    "print(remove(str,i))# it removes the ith(0) element from the string\n"
   ]
  }
 ],
 "metadata": {
  "kernelspec": {
   "display_name": "Python 3 (ipykernel)",
   "language": "python",
   "name": "python3"
  },
  "language_info": {
   "codemirror_mode": {
    "name": "ipython",
    "version": 3
   },
   "file_extension": ".py",
   "mimetype": "text/x-python",
   "name": "python",
   "nbconvert_exporter": "python",
   "pygments_lexer": "ipython3",
   "version": "3.9.9"
  }
 },
 "nbformat": 4,
 "nbformat_minor": 5
}
