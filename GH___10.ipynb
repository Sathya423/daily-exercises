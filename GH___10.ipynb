{
 "cells": [
  {
   "cell_type": "markdown",
   "id": "cb808d36",
   "metadata": {},
   "source": [
    "# Write a python program to read three numbers (a,b,c) and check how many numbers between ‘a’ and ‘b’ are divisible by ‘c"
   ]
  },
  {
   "cell_type": "code",
   "execution_count": 2,
   "id": "5688b228",
   "metadata": {},
   "outputs": [
    {
     "name": "stdout",
     "output_type": "stream",
     "text": [
      "enter vale of a 2\n",
      "enter vale of b 3\n",
      "enter vale of c 4\n",
      "THe numbers diviisble are  0\n"
     ]
    }
   ],
   "source": [
    "\n",
    "a = int(input(\"enter vale of a \"))\n",
    "b = int(input(\"enter vale of b \"))\n",
    "c = int(input(\"enter vale of c \"))\n",
    "count =0\n",
    "for value in range(a,b):\n",
    "   \n",
    "    if value%c == 0:\n",
    "        print(value)\n",
    "        count+=1\n",
    "final=print(\"THe numbers diviisble are \",count)     "
   ]
  },
  {
   "cell_type": "markdown",
   "id": "d6f7d011",
   "metadata": {},
   "source": [
    "# Write a python program to read radius of a circle and print the area"
   ]
  },
  {
   "cell_type": "code",
   "execution_count": 3,
   "id": "77c007e5",
   "metadata": {},
   "outputs": [
    {
     "name": "stdout",
     "output_type": "stream",
     "text": [
      "enter the radius of the circle2\n",
      "area of the circle for given radius- 2.0 :area- 12.56 \n"
     ]
    }
   ],
   "source": [
    "\n",
    "radius=float(input(\"enter the radius of the circle\"))\n",
    "pi=3.14\n",
    "area=pi*radius**2\n",
    "print(\"area of the circle for given radius- {} :area- {} \".format(radius,area))"
   ]
  },
  {
   "cell_type": "markdown",
   "id": "e6c74d36",
   "metadata": {},
   "source": [
    "# Write a python program to find the sum of all even numbers from 0 to 10"
   ]
  },
  {
   "cell_type": "code",
   "execution_count": 4,
   "id": "feef13fc",
   "metadata": {},
   "outputs": [
    {
     "name": "stdout",
     "output_type": "stream",
     "text": [
      "30\n"
     ]
    }
   ],
   "source": [
    "\n",
    "sum=0\n",
    "for value in range(0,11):\n",
    "    if value%2 == 0:\n",
    "        sum=sum+value\n",
    "print(sum)        \n",
    "        "
   ]
  },
  {
   "cell_type": "markdown",
   "id": "e8a307a5",
   "metadata": {},
   "source": [
    "# Write a python program to read two numbers and find the sum of their cubes"
   ]
  },
  {
   "cell_type": "code",
   "execution_count": 6,
   "id": "7804d89f",
   "metadata": {},
   "outputs": [
    {
     "name": "stdout",
     "output_type": "stream",
     "text": [
      "enter the value of num1:2\n",
      "enter the value of num2:4\n",
      "72\n"
     ]
    }
   ],
   "source": [
    "\n",
    "num1=int(input(\"enter the value of num1:\"))\n",
    "num2=int(input(\"enter the value of num2:\"))\n",
    "sum = num1**3+num2**3\n",
    "print(sum)"
   ]
  },
  {
   "cell_type": "markdown",
   "id": "16b5467c",
   "metadata": {},
   "source": [
    "# Write a program to use the loop to find the factorial of a given number"
   ]
  },
  {
   "cell_type": "code",
   "execution_count": 8,
   "id": "7425fb6a",
   "metadata": {},
   "outputs": [
    {
     "name": "stdout",
     "output_type": "stream",
     "text": [
      "enter the number4\n",
      "the factorial of given number is  24\n"
     ]
    }
   ],
   "source": [
    "\n",
    "a=int(input(\"enter the number\"))\n",
    "fact=1\n",
    "for value in range(1,a+1):\n",
    "    fact=fact*value\n",
    "print(\"the factorial of given number is \",fact)   "
   ]
  },
  {
   "cell_type": "code",
   "execution_count": null,
   "id": "77d2ff9f",
   "metadata": {},
   "outputs": [],
   "source": []
  }
 ],
 "metadata": {
  "kernelspec": {
   "display_name": "Python 3 (ipykernel)",
   "language": "python",
   "name": "python3"
  },
  "language_info": {
   "codemirror_mode": {
    "name": "ipython",
    "version": 3
   },
   "file_extension": ".py",
   "mimetype": "text/x-python",
   "name": "python",
   "nbconvert_exporter": "python",
   "pygments_lexer": "ipython3",
   "version": "3.9.9"
  }
 },
 "nbformat": 4,
 "nbformat_minor": 5
}
