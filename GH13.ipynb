{
 "cells": [
  {
   "cell_type": "markdown",
   "id": "0c529cae",
   "metadata": {},
   "source": [
    "# Python Lambda Functions\n"
   ]
  },
  {
   "cell_type": "raw",
   "id": "072fbf9a",
   "metadata": {},
   "source": [
    "Python Lambda function is known as the anonymous function that is defined without a name. Python allows us to not declare the function in the standard manner, i.e., by using the def keyword. Rather, the anonymous functions are declared by using the lambda keyword. However, Lambda functions can accept any number of arguments, but they can return only one value in the form of expression."
   ]
  },
  {
   "cell_type": "code",
   "execution_count": null,
   "id": "22466773",
   "metadata": {},
   "outputs": [],
   "source": [
    "syntax: lambda arguments:Expression"
   ]
  },
  {
   "cell_type": "code",
   "execution_count": 10,
   "id": "06569136",
   "metadata": {},
   "outputs": [
    {
     "name": "stdout",
     "output_type": "stream",
     "text": [
      "<function <lambda> at 0x0000026C52CFE700>\n",
      "sum: 30\n"
     ]
    }
   ],
   "source": [
    "x=lambda a:a+10 \n",
    "print(x)             #Actual flow is performed below\n",
    "print(\"sum:\",x(20))"
   ]
  },
  {
   "cell_type": "code",
   "execution_count": null,
   "id": "e4035f4f",
   "metadata": {},
   "outputs": [],
   "source": [
    "def x(a):  \n",
    "    return a+10  #flow of the above  example\n",
    "print(sum = x(10))  "
   ]
  },
  {
   "cell_type": "code",
   "execution_count": 9,
   "id": "5f3cd9f2",
   "metadata": {},
   "outputs": [
    {
     "name": "stdout",
     "output_type": "stream",
     "text": [
      "Enter the value123\n",
      "The requried mul is: 1230\n"
     ]
    }
   ],
   "source": [
    "y=lambda b:a*10\n",
    "a= int(input(\"Enter the value\"))\n",
    "print(\"The requried mul is:\",y(b))"
   ]
  },
  {
   "cell_type": "code",
   "execution_count": 3,
   "id": "596c0c3f",
   "metadata": {},
   "outputs": [
    {
     "name": "stdout",
     "output_type": "stream",
     "text": [
      "<function <lambda> at 0x00000171B94CEEE0>\n"
     ]
    }
   ],
   "source": [
    "# Python program to demonstrate\n",
    "# lambda functions\n",
    " \n",
    " \n",
    "string ='GeeksforGeeks'\n",
    " \n",
    "# lambda returns a function object\n",
    "print(lambda string :string)"
   ]
  },
  {
   "cell_type": "code",
   "execution_count": 6,
   "id": "1f053acc",
   "metadata": {},
   "outputs": [
    {
     "data": {
      "text/plain": [
       "str"
      ]
     },
     "execution_count": 6,
     "metadata": {},
     "output_type": "execute_result"
    }
   ],
   "source": [
    "string ='GeeksforGeeks'\n",
    "type(string)"
   ]
  },
  {
   "cell_type": "code",
   "execution_count": 12,
   "id": "c48960c8",
   "metadata": {},
   "outputs": [
    {
     "name": "stdout",
     "output_type": "stream",
     "text": [
      "343\n",
      "27\n"
     ]
    }
   ],
   "source": [
    "def cube(y):\n",
    "    return y*y*y\n",
    "g=lambda x:x*x*x\n",
    "print(g(7))\n",
    "print(cube(3))"
   ]
  },
  {
   "cell_type": "markdown",
   "id": "3bcfe5bd",
   "metadata": {},
   "source": [
    "# Use lambda function with filter()"
   ]
  },
  {
   "cell_type": "raw",
   "id": "55047181",
   "metadata": {},
   "source": [
    "The Python built-in filter() function accepts a function and a list as an argument. It provides an effective way to filter out all elements of the sequence. It returns the new sequence in which the function evaluates to True."
   ]
  },
  {
   "cell_type": "code",
   "execution_count": 25,
   "id": "565565d6",
   "metadata": {},
   "outputs": [
    {
     "name": "stdout",
     "output_type": "stream",
     "text": [
      "[100, 2, 8, 60, 4, 10]\n",
      "[True, True, True, True, False, True, False, False, True, False]\n"
     ]
    }
   ],
   "source": [
    "# Python program to demonstrate\n",
    "# lambda functions inside map()\n",
    "# and filter()\n",
    " \n",
    " \n",
    "a = [100, 2, 8, 60, 5, 4, 3, 31, 10, 11]\n",
    " \n",
    "# in filter either we use assignment or\n",
    "# conditional operator, the pass actual\n",
    "# parameter will get return\n",
    "\n",
    "filtered = filter (lambda x: x % 2 == 0,a)\n",
    "print(list(filtered))\n",
    " \n",
    "# in map either we use assignment or\n",
    "# conditional operator, the result of\n",
    "# the value will get returned\n",
    "mapped = map (lambda x: x % 2 == 0, a)\n",
    "print(list(mapped))"
   ]
  },
  {
   "cell_type": "code",
   "execution_count": 26,
   "id": "fd34bb5a",
   "metadata": {},
   "outputs": [
    {
     "name": "stdout",
     "output_type": "stream",
     "text": [
      "Absolute value of -40 is: 20\n",
      "Absolute value of -40.83 is: 20.83\n"
     ]
    }
   ],
   "source": [
    "#  integer number     \n",
    "integer = -20  \n",
    "print('Absolute value of -20is:', abs(integer))  \n",
    "  \n",
    "#  floating number  \n",
    "floating = -20.83  \n",
    "print('Absolute value of -40.83 is:', abs(floating))  "
   ]
  },
  {
   "cell_type": "markdown",
   "id": "8cd6e8d0",
   "metadata": {},
   "source": [
    "# Functions"
   ]
  },
  {
   "cell_type": "code",
   "execution_count": 12,
   "id": "c052d352",
   "metadata": {},
   "outputs": [],
   "source": [
    "#a=int(input(\"Enter the value of a: \"))\n",
    "#b=int(input(\"Enter the value of b: \"))\n",
    "def calculate(a,b):\n",
    "    print(\"the sum is\", a+b)\n",
    "    print(\"the difference is\", a-b)\n",
    "    print(\"the mul is\", a*b)\n",
    "    print(calculate(20,10))"
   ]
  },
  {
   "cell_type": "code",
   "execution_count": null,
   "id": "f51ff048",
   "metadata": {},
   "outputs": [],
   "source": []
  },
  {
   "cell_type": "code",
   "execution_count": null,
   "id": "a7860c83",
   "metadata": {},
   "outputs": [],
   "source": []
  },
  {
   "cell_type": "markdown",
   "id": "e855aceb",
   "metadata": {},
   "source": [
    "# abs() in Python\n"
   ]
  },
  {
   "cell_type": "raw",
   "id": "be623052",
   "metadata": {},
   "source": [
    "abs() in Python\n",
    "Python abs() function is used to return the absolute value of a number, i.e., it will remove the negative sign of the number.  \n",
    "\n",
    "Syntax: abs(number)\n",
    "number: Can be an integer, a floating-point\n",
    "\n",
    "number or a complex number"
   ]
  },
  {
   "cell_type": "code",
   "execution_count": 1,
   "id": "058b10e1",
   "metadata": {},
   "outputs": [
    {
     "name": "stdout",
     "output_type": "stream",
     "text": [
      "enter the number:-203\n"
     ]
    },
    {
     "data": {
      "text/plain": [
       "203"
      ]
     },
     "execution_count": 1,
     "metadata": {},
     "output_type": "execute_result"
    }
   ],
   "source": [
    "num=int(input(\"enter the number:\"))\n",
    "abs(num)\n"
   ]
  },
  {
   "cell_type": "markdown",
   "id": "c08fc4e2",
   "metadata": {},
   "source": [
    "# sqrt()"
   ]
  },
  {
   "cell_type": "code",
   "execution_count": 3,
   "id": "46e4ff9c",
   "metadata": {},
   "outputs": [
    {
     "name": "stdout",
     "output_type": "stream",
     "text": [
      "3.3166247903554\n"
     ]
    }
   ],
   "source": [
    "import math\n",
    "print(math.sqrt(11))\n"
   ]
  },
  {
   "cell_type": "markdown",
   "id": "55848b59",
   "metadata": {},
   "source": [
    "# Python round()"
   ]
  },
  {
   "cell_type": "code",
   "execution_count": 6,
   "id": "1572dfd0",
   "metadata": {},
   "outputs": [
    {
     "name": "stdout",
     "output_type": "stream",
     "text": [
      "21\n",
      "22\n",
      "22\n",
      "-21\n"
     ]
    }
   ],
   "source": [
    "# round() function used to round  the decimal  value to the nearest base value\n",
    "print(round(21.2))\n",
    "print(round(21.5))\n",
    "print(round(21.6))\n",
    "print(round(-21))"
   ]
  },
  {
   "cell_type": "markdown",
   "id": "039226cd",
   "metadata": {},
   "source": [
    "# floor() and ceil() function Python\n"
   ]
  },
  {
   "cell_type": "raw",
   "id": "399bdf1a",
   "metadata": {},
   "source": [
    "floor() method in Python returns the floor of x i.e., the largest integer not greater than x. "
   ]
  },
  {
   "cell_type": "code",
   "execution_count": 9,
   "id": "5d5d8a9c",
   "metadata": {},
   "outputs": [
    {
     "name": "stdout",
     "output_type": "stream",
     "text": [
      "-124\n",
      "123\n",
      "123\n"
     ]
    }
   ],
   "source": [
    "import math\n",
    "print(math.floor(-123.44)) # it removes the .decimal value and give before value\n",
    "print(math.floor(123.4555))\n",
    "print(math.floor(123.9999999))"
   ]
  },
  {
   "cell_type": "code",
   "execution_count": 14,
   "id": "51966b17",
   "metadata": {},
   "outputs": [
    {
     "name": "stdout",
     "output_type": "stream",
     "text": [
      "24\n",
      "245\n",
      "23\n",
      "22\n"
     ]
    }
   ],
   "source": [
    "import math\n",
    "print(math.ceil(23.344))\n",
    "print(math.ceil(244.888))\n",
    "print(math.ceil(23.0))\n",
    "print(math.ceil(21.1))"
   ]
  },
  {
   "cell_type": "code",
   "execution_count": 15,
   "id": "61e37ede",
   "metadata": {},
   "outputs": [
    {
     "ename": "ModuleNotFoundError",
     "evalue": "No module named 'numpy'",
     "output_type": "error",
     "traceback": [
      "\u001b[1;31m---------------------------------------------------------------------------\u001b[0m",
      "\u001b[1;31mModuleNotFoundError\u001b[0m                       Traceback (most recent call last)",
      "\u001b[1;32m~\\AppData\\Local\\Temp/ipykernel_8248/2134459389.py\u001b[0m in \u001b[0;36m<module>\u001b[1;34m\u001b[0m\n\u001b[1;32m----> 1\u001b[1;33m \u001b[1;32mimport\u001b[0m \u001b[0mnumpy\u001b[0m \u001b[1;32mas\u001b[0m \u001b[0mnp\u001b[0m\u001b[1;33m\u001b[0m\u001b[1;33m\u001b[0m\u001b[0m\n\u001b[0m\u001b[0;32m      2\u001b[0m \u001b[0marr\u001b[0m\u001b[1;33m=\u001b[0m\u001b[1;33m[\u001b[0m\u001b[1;36m1\u001b[0m\u001b[1;33m,\u001b[0m\u001b[1;36m2\u001b[0m\u001b[1;33m,\u001b[0m\u001b[1;36m3\u001b[0m\u001b[1;33m,\u001b[0m\u001b[1;36m4\u001b[0m\u001b[1;33m,\u001b[0m\u001b[1;36m5\u001b[0m\u001b[1;33m,\u001b[0m\u001b[1;36m67\u001b[0m\u001b[1;33m,\u001b[0m\u001b[1;36m8\u001b[0m\u001b[1;33m]\u001b[0m\u001b[1;33m\u001b[0m\u001b[1;33m\u001b[0m\u001b[0m\n\u001b[0;32m      3\u001b[0m \u001b[0mprint\u001b[0m\u001b[1;33m(\u001b[0m\u001b[1;34m\"the squqre of given arry is\"\u001b[0m\u001b[1;33m,\u001b[0m\u001b[0mnp\u001b[0m\u001b[1;33m.\u001b[0m\u001b[0msquare\u001b[0m\u001b[1;33m(\u001b[0m\u001b[0marr\u001b[0m\u001b[1;33m)\u001b[0m\u001b[1;33m)\u001b[0m\u001b[1;33m\u001b[0m\u001b[1;33m\u001b[0m\u001b[0m\n",
      "\u001b[1;31mModuleNotFoundError\u001b[0m: No module named 'numpy'"
     ]
    }
   ],
   "source": [
    "import numpy as np\n",
    "arr=[1,2,3,4,5,67,8]\n",
    "print(\"the squqre of given arry is\",np.square(arr))"
   ]
  },
  {
   "cell_type": "code",
   "execution_count": 16,
   "id": "813d6888",
   "metadata": {},
   "outputs": [
    {
     "ename": "ModuleNotFoundError",
     "evalue": "No module named 'numpy'",
     "output_type": "error",
     "traceback": [
      "\u001b[1;31m---------------------------------------------------------------------------\u001b[0m",
      "\u001b[1;31mModuleNotFoundError\u001b[0m                       Traceback (most recent call last)",
      "\u001b[1;32m~\\AppData\\Local\\Temp/ipykernel_8248/1409227393.py\u001b[0m in \u001b[0;36m<module>\u001b[1;34m\u001b[0m\n\u001b[1;32m----> 1\u001b[1;33m \u001b[1;32mimport\u001b[0m \u001b[0mnumpy\u001b[0m \u001b[1;32mas\u001b[0m \u001b[0mnp\u001b[0m\u001b[1;33m\u001b[0m\u001b[1;33m\u001b[0m\u001b[0m\n\u001b[0m\u001b[0;32m      2\u001b[0m \u001b[1;33m\u001b[0m\u001b[0m\n\u001b[0;32m      3\u001b[0m \u001b[0marr1\u001b[0m \u001b[1;33m=\u001b[0m \u001b[1;33m[\u001b[0m\u001b[1;36m1\u001b[0m\u001b[1;33m,\u001b[0m \u001b[1;33m-\u001b[0m\u001b[1;36m3\u001b[0m\u001b[1;33m,\u001b[0m \u001b[1;36m15\u001b[0m\u001b[1;33m,\u001b[0m \u001b[1;33m-\u001b[0m\u001b[1;36m466\u001b[0m\u001b[1;33m]\u001b[0m\u001b[1;33m\u001b[0m\u001b[1;33m\u001b[0m\u001b[0m\n\u001b[0;32m      4\u001b[0m \u001b[0mprint\u001b[0m \u001b[1;33m(\u001b[0m\u001b[1;34m\"Square Value of arr1 : \\n\"\u001b[0m\u001b[1;33m,\u001b[0m \u001b[0mnp\u001b[0m\u001b[1;33m.\u001b[0m\u001b[0msquare\u001b[0m\u001b[1;33m(\u001b[0m\u001b[0marr1\u001b[0m\u001b[1;33m)\u001b[0m\u001b[1;33m)\u001b[0m\u001b[1;33m\u001b[0m\u001b[1;33m\u001b[0m\u001b[0m\n\u001b[0;32m      5\u001b[0m \u001b[1;33m\u001b[0m\u001b[0m\n",
      "\u001b[1;31mModuleNotFoundError\u001b[0m: No module named 'numpy'"
     ]
    }
   ],
   "source": [
    "import numpy as np\n",
    "  \n",
    "arr1 = [1, -3, 15, -466]\n",
    "print (\"Square Value of arr1 : \\n\", np.square(arr1))\n",
    "  "
   ]
  },
  {
   "cell_type": "code",
   "execution_count": 27,
   "id": "1c36497f",
   "metadata": {},
   "outputs": [],
   "source": [
    "def diff_twolists(list1,list2):\n",
    "    list_diff=list(set(list1)-set(list2)+set(list2)-set(list1))\n",
    "    return list_diff\n",
    "    list1=[1,2,3,4,56,7]\n",
    "    list2=[1,23,44,5,66,56]\n",
    "    print(diff_twolists(list1,list2))"
   ]
  },
  {
   "cell_type": "markdown",
   "id": "7b13a22d",
   "metadata": {},
   "source": [
    "# Python all() Function Example"
   ]
  },
  {
   "cell_type": "code",
   "execution_count": 1,
   "id": "6c5e972b",
   "metadata": {},
   "outputs": [
    {
     "name": "stdout",
     "output_type": "stream",
     "text": [
      "True\n"
     ]
    }
   ],
   "source": [
    "#For all values true \n",
    "k=[1,2,3,4]\n",
    "print(all(k))"
   ]
  },
  {
   "cell_type": "code",
   "execution_count": 2,
   "id": "b0dd0c18",
   "metadata": {},
   "outputs": [
    {
     "name": "stdout",
     "output_type": "stream",
     "text": [
      "False\n"
     ]
    }
   ],
   "source": [
    "#for all false values\n",
    "k=[0,False]\n",
    "print(all(k))"
   ]
  },
  {
   "cell_type": "code",
   "execution_count": 3,
   "id": "79d50d33",
   "metadata": {},
   "outputs": [
    {
     "name": "stdout",
     "output_type": "stream",
     "text": [
      "False\n"
     ]
    }
   ],
   "source": [
    "#for one false value\n",
    "k=[12,2,3,4,5,6,0]\n",
    "print(all(k))"
   ]
  },
  {
   "cell_type": "code",
   "execution_count": 4,
   "id": "2f699c82",
   "metadata": {},
   "outputs": [
    {
     "name": "stdout",
     "output_type": "stream",
     "text": [
      "False\n"
     ]
    }
   ],
   "source": [
    "#for one true value\n",
    "k=[0,False,5]\n",
    "print(all(k))"
   ]
  },
  {
   "cell_type": "code",
   "execution_count": 5,
   "id": "0f751242",
   "metadata": {},
   "outputs": [
    {
     "name": "stdout",
     "output_type": "stream",
     "text": [
      "True\n"
     ]
    }
   ],
   "source": [
    "#For empty list\n",
    "k=[]\n",
    "print(all(k))"
   ]
  },
  {
   "cell_type": "markdown",
   "id": "1d5b2384",
   "metadata": {},
   "source": [
    "# Python bin() Function"
   ]
  },
  {
   "cell_type": "raw",
   "id": "3c4f53ea",
   "metadata": {},
   "source": [
    "The python bin() function is used to return the binary representation of a specified integer. A result always starts with the prefix 0b.\n",
    "\n",
    "Python bin() Function"
   ]
  },
  {
   "cell_type": "code",
   "execution_count": 7,
   "id": "b37811ca",
   "metadata": {},
   "outputs": [
    {
     "name": "stdout",
     "output_type": "stream",
     "text": [
      "0b1010\n"
     ]
    }
   ],
   "source": [
    "x=10\n",
    "y=print(bin(10))"
   ]
  },
  {
   "cell_type": "markdown",
   "id": "823e284e",
   "metadata": {},
   "source": [
    "# Python bool()\n"
   ]
  },
  {
   "cell_type": "raw",
   "id": "bc687cb8",
   "metadata": {},
   "source": [
    "# The python bool() converts a value to boolean(True or False) using the standard truth testing procedure."
   ]
  },
  {
   "cell_type": "code",
   "execution_count": 17,
   "id": "c18873f2",
   "metadata": {},
   "outputs": [
    {
     "name": "stdout",
     "output_type": "stream",
     "text": [
      "[] is False\n",
      "[] is False\n",
      "[1] is True\n",
      "[True] is True\n",
      "['Easy is a string'] is True\n"
     ]
    }
   ],
   "source": [
    "test1 = []  \n",
    "print(test1, 'is',bool(test1))\n",
    "\n",
    "test2=[0]\n",
    "print(test1,'is',bool(test1))\n",
    "\n",
    "test1=[1]\n",
    "print(test1,'is',bool(test1))\n",
    "\n",
    "test1=[True]\n",
    "print(test1,'is',bool(test1))\n",
    "\n",
    "test1=[\"Easy is a string\"]\n",
    "print(test1,'is',bool(test1))"
   ]
  },
  {
   "cell_type": "markdown",
   "id": "eefe2c1c",
   "metadata": {},
   "source": [
    "# Python eval() Function"
   ]
  },
  {
   "cell_type": "raw",
   "id": "0cc65d29",
   "metadata": {},
   "source": [
    "\n",
    "The python eval() function parses the expression passed to it and runs python expression(code) within the program.\n",
    "\n"
   ]
  },
  {
   "cell_type": "code",
   "execution_count": null,
   "id": "a0d3268e",
   "metadata": {},
   "outputs": [],
   "source": [
    "Eval function is used for\n",
    "int\n",
    "float\n",
    "bool\n"
   ]
  },
  {
   "cell_type": "code",
   "execution_count": 11,
   "id": "fd8c7fc1",
   "metadata": {},
   "outputs": [
    {
     "name": "stdout",
     "output_type": "stream",
     "text": [
      "enter the value: 23.4\n",
      "<class 'str'>\n"
     ]
    }
   ],
   "source": [
    "x=input(\"enter the value: \")\n",
    "print(type(x)) #it shows the string format  for any input"
   ]
  },
  {
   "cell_type": "code",
   "execution_count": 12,
   "id": "a17b399b",
   "metadata": {},
   "outputs": [
    {
     "name": "stdout",
     "output_type": "stream",
     "text": [
      "enter the value: 23\n",
      "<class 'int'>\n"
     ]
    }
   ],
   "source": [
    "x=eval(input(\"enter the value: \"))\n",
    "print(type(x))  # it shows the given format.here we have given int foemat"
   ]
  },
  {
   "cell_type": "code",
   "execution_count": 13,
   "id": "9aad5b37",
   "metadata": {},
   "outputs": [
    {
     "name": "stdout",
     "output_type": "stream",
     "text": [
      "enter the value: 23.4\n",
      "<class 'float'>\n"
     ]
    }
   ],
   "source": [
    "x=eval(input(\"enter the value: \"))\n",
    "print(type(x))  # it shows the given format.here we have given  the float format"
   ]
  },
  {
   "cell_type": "code",
   "execution_count": 14,
   "id": "d3bcac5a",
   "metadata": {},
   "outputs": [
    {
     "name": "stdout",
     "output_type": "stream",
     "text": [
      "enter the value: True\n",
      "<class 'bool'>\n"
     ]
    }
   ],
   "source": [
    "x=eval(input(\"enter the value: \"))\n",
    "print(type(x))  # it shows the given format.here we have given  the bool format"
   ]
  },
  {
   "cell_type": "code",
   "execution_count": 16,
   "id": "e5443fcf",
   "metadata": {},
   "outputs": [
    {
     "name": "stdout",
     "output_type": "stream",
     "text": [
      "enter the value: [1,2,3,4,5,67,10]\n",
      "<class 'list'>\n"
     ]
    }
   ],
   "source": [
    "x=eval(input(\"enter the value: \"))\n",
    "print(type(x))"
   ]
  },
  {
   "cell_type": "code",
   "execution_count": 19,
   "id": "42b1a4f8",
   "metadata": {},
   "outputs": [
    {
     "name": "stdout",
     "output_type": "stream",
     "text": [
      "enter the value: {\"a\":\"1\",\"b\":\"2\",\"c\":\"5\"}\n",
      "<class 'dict'>\n"
     ]
    }
   ],
   "source": [
    "x=eval(input(\"enter the value: \"))\n",
    "print(type(x))"
   ]
  },
  {
   "cell_type": "code",
   "execution_count": 20,
   "id": "0013e146",
   "metadata": {},
   "outputs": [
    {
     "name": "stdout",
     "output_type": "stream",
     "text": [
      "enter the value: (1,2,3,4,5,6,7,8,9,10)\n",
      "<class 'tuple'>\n"
     ]
    }
   ],
   "source": [
    "x=eval(input(\"enter the value: \"))\n",
    "print(type(x))"
   ]
  },
  {
   "cell_type": "code",
   "execution_count": 21,
   "id": "84081211",
   "metadata": {},
   "outputs": [
    {
     "name": "stdout",
     "output_type": "stream",
     "text": [
      "enter the value: (10)\n",
      "<class 'int'>\n"
     ]
    }
   ],
   "source": [
    "x=eval(input(\"enter the value: \"))\n",
    "print(type(x))"
   ]
  },
  {
   "cell_type": "code",
   "execution_count": 22,
   "id": "c3e1881c",
   "metadata": {},
   "outputs": [
    {
     "name": "stdout",
     "output_type": "stream",
     "text": [
      "6 <class 'int'>\n"
     ]
    }
   ],
   "source": [
    "x=eval('1+2+3')\n",
    "print(x,type(x))"
   ]
  },
  {
   "cell_type": "code",
   "execution_count": 24,
   "id": "c2922440",
   "metadata": {},
   "outputs": [
    {
     "ename": "NameError",
     "evalue": "name 'Formated' is not defined",
     "output_type": "error",
     "traceback": [
      "\u001b[1;31m---------------------------------------------------------------------------\u001b[0m",
      "\u001b[1;31mNameError\u001b[0m                                 Traceback (most recent call last)",
      "\u001b[1;32m~\\AppData\\Local\\Temp/ipykernel_7412/841001090.py\u001b[0m in \u001b[0;36m<module>\u001b[1;34m\u001b[0m\n\u001b[1;32m----> 1\u001b[1;33m \u001b[0mFormated\u001b[0m\u001b[1;33m\u001b[0m\u001b[1;33m\u001b[0m\u001b[0m\n\u001b[0m",
      "\u001b[1;31mNameError\u001b[0m: name 'Formated' is not defined"
     ]
    }
   ],
   "source": [
    "Formated"
   ]
  },
  {
   "cell_type": "code",
   "execution_count": 26,
   "id": "0052c436",
   "metadata": {},
   "outputs": [
    {
     "ename": "SyntaxError",
     "evalue": "invalid syntax (Temp/ipykernel_7412/1754802499.py, line 2)",
     "output_type": "error",
     "traceback": [
      "\u001b[1;36m  File \u001b[1;32m\"C:\\Users\\User\\AppData\\Local\\Temp/ipykernel_7412/1754802499.py\"\u001b[1;36m, line \u001b[1;32m2\u001b[0m\n\u001b[1;33m    print(%x)\u001b[0m\n\u001b[1;37m          ^\u001b[0m\n\u001b[1;31mSyntaxError\u001b[0m\u001b[1;31m:\u001b[0m invalid syntax\n"
     ]
    }
   ],
   "source": [
    "x=10\n",
    "print(%x)"
   ]
  },
  {
   "cell_type": "code",
   "execution_count": 27,
   "id": "c8554e6b",
   "metadata": {},
   "outputs": [
    {
     "name": "stdout",
     "output_type": "stream",
     "text": [
      "123\n"
     ]
    }
   ],
   "source": [
    "print(format(123,\"d\"))"
   ]
  },
  {
   "cell_type": "code",
   "execution_count": 28,
   "id": "e9845374",
   "metadata": {},
   "outputs": [
    {
     "name": "stdout",
     "output_type": "stream",
     "text": [
      "123.456546\n"
     ]
    }
   ],
   "source": [
    "print(format(123.456546,\"f\"))"
   ]
  },
  {
   "cell_type": "code",
   "execution_count": 29,
   "id": "7d4115e4",
   "metadata": {},
   "outputs": [
    {
     "name": "stdout",
     "output_type": "stream",
     "text": [
      "1111011\n"
     ]
    }
   ],
   "source": [
    "print(format(123,\"b\"))"
   ]
  },
  {
   "cell_type": "code",
   "execution_count": 31,
   "id": "631ee04f",
   "metadata": {},
   "outputs": [
    {
     "name": "stdout",
     "output_type": "stream",
     "text": [
      "a=10,b=20,c=30\n"
     ]
    }
   ],
   "source": [
    "a=10\n",
    "b=20\n",
    "c=30\n",
    "print('a=%d,b=%d,c=%d'%(a,b,c))"
   ]
  },
  {
   "cell_type": "code",
   "execution_count": 2,
   "id": "7e88cc50",
   "metadata": {},
   "outputs": [
    {
     "name": "stdout",
     "output_type": "stream",
     "text": [
      "hello sathya, your marks are [100, 99, 98, 97]\n"
     ]
    }
   ],
   "source": [
    "name=\"sathya\"\n",
    "Marks=[100,99,98,97]\n",
    "print('hello %s, your marks are %s'%(name,Marks))"
   ]
  },
  {
   "cell_type": "code",
   "execution_count": 11,
   "id": "6b5fc617",
   "metadata": {},
   "outputs": [
    {
     "name": "stdout",
     "output_type": "stream",
     "text": [
      "The price value is 70.9922\n",
      "The price value is 70.992200\n",
      "The price value is70.99\n"
     ]
    }
   ],
   "source": [
    "price=70.9922\n",
    "print(\"The price value is {}\".format(price))\n",
    "print(\"The price value is %f\"  %price)\n",
    "print(\"The price value is%.2f\"  %price) #.2f Represents prints upto 2 decimal values only"
   ]
  },
  {
   "cell_type": "markdown",
   "id": "301eba62",
   "metadata": {},
   "source": [
    "# Python frozenset()\n"
   ]
  },
  {
   "cell_type": "code",
   "execution_count": 14,
   "id": "6adc494d",
   "metadata": {},
   "outputs": [
    {
     "name": "stdout",
     "output_type": "stream",
     "text": [
      "{1, 2, 3, 4, 5, 67, 8, 9, 10}\n",
      "{1, 2, 3, 4, 5, 67, 8, 9, 10, 122}\n",
      "{2, 3, 4, 5, 67, 8, 9, 10, 122}\n"
     ]
    }
   ],
   "source": [
    "s={1,2,3,4,5,67,8,9,10}\n",
    "print(s)      #In normal set we can add and remove element,where as in frozen se we can't add and remove\n",
    " \n",
    "s.add(122)\n",
    "print(s) \n",
    "s.remove(1)\n",
    "print(s)"
   ]
  },
  {
   "cell_type": "code",
   "execution_count": 16,
   "id": "a2b1230f",
   "metadata": {},
   "outputs": [
    {
     "name": "stdout",
     "output_type": "stream",
     "text": [
      "{1, 2, 3, 4, 5, 6, 7, 10, 89}\n"
     ]
    }
   ],
   "source": [
    "s={1,2,3,4,5,6,7,89,10}\n",
    "fs=frozenset(s)\n",
    "print(s)\n"
   ]
  },
  {
   "cell_type": "code",
   "execution_count": null,
   "id": "fde8dcb4",
   "metadata": {},
   "outputs": [],
   "source": []
  },
  {
   "cell_type": "code",
   "execution_count": 15,
   "id": "042190a5",
   "metadata": {},
   "outputs": [
    {
     "name": "stdout",
     "output_type": "stream",
     "text": [
      "{65, 34434, 13, 11, 12, 45}\n",
      "frozenset({65, 34434, 13, 11, 12, 45})\n"
     ]
    },
    {
     "ename": "AttributeError",
     "evalue": "'frozenset' object has no attribute 'add'",
     "output_type": "error",
     "traceback": [
      "\u001b[1;31m---------------------------------------------------------------------------\u001b[0m",
      "\u001b[1;31mAttributeError\u001b[0m                            Traceback (most recent call last)",
      "\u001b[1;32m~\\AppData\\Local\\Temp/ipykernel_9192/2450621180.py\u001b[0m in \u001b[0;36m<module>\u001b[1;34m\u001b[0m\n\u001b[0;32m      3\u001b[0m \u001b[0ma\u001b[0m\u001b[1;33m=\u001b[0m\u001b[0mfrozenset\u001b[0m\u001b[1;33m(\u001b[0m\u001b[0ms\u001b[0m\u001b[1;33m)\u001b[0m\u001b[1;33m\u001b[0m\u001b[1;33m\u001b[0m\u001b[0m\n\u001b[0;32m      4\u001b[0m \u001b[0mprint\u001b[0m\u001b[1;33m(\u001b[0m\u001b[0ma\u001b[0m\u001b[1;33m)\u001b[0m\u001b[1;33m\u001b[0m\u001b[1;33m\u001b[0m\u001b[0m\n\u001b[1;32m----> 5\u001b[1;33m \u001b[0ma\u001b[0m\u001b[1;33m.\u001b[0m\u001b[0madd\u001b[0m\u001b[1;33m(\u001b[0m\u001b[0ms\u001b[0m\u001b[1;33m)\u001b[0m\u001b[1;33m\u001b[0m\u001b[1;33m\u001b[0m\u001b[0m\n\u001b[0m\u001b[0;32m      6\u001b[0m \u001b[0mprint\u001b[0m\u001b[1;33m(\u001b[0m\u001b[0ma\u001b[0m\u001b[1;33m)\u001b[0m\u001b[1;33m\u001b[0m\u001b[1;33m\u001b[0m\u001b[0m\n",
      "\u001b[1;31mAttributeError\u001b[0m: 'frozenset' object has no attribute 'add'"
     ]
    }
   ],
   "source": [
    "s={12,13,11,45,65,34434}\n",
    "print(s)          # we cannot add or remove in frozen set\n",
    "a=frozenset(s)    #Duplicate are not Allowed\n",
    "print(a)          #slicing and indexing are not\n",
    "a.add(s)           # it doesnot follow the order\n",
    "print(a)"
   ]
  },
  {
   "cell_type": "markdown",
   "id": "6390c566",
   "metadata": {},
   "source": [
    "# Python getattr() Function"
   ]
  },
  {
   "cell_type": "raw",
   "id": "b84212e2",
   "metadata": {},
   "source": [
    "\n",
    "The python getattr() function returns the value of a named attribute of an object. If it is not found, it returns the default value.\n",
    "\n",
    "\n",
    "    "
   ]
  },
  {
   "cell_type": "code",
   "execution_count": 42,
   "id": "6f4240e0",
   "metadata": {},
   "outputs": [
    {
     "name": "stdout",
     "output_type": "stream",
     "text": [
      "Name is sathya\n",
      "hello sathya\n",
      "us is  powerful\n"
     ]
    }
   ],
   "source": [
    "class GFG:\n",
    "    age=21\n",
    "    name=\"sathya\"\n",
    "obj=GFG()\n",
    "    \n",
    "print(\"Name is\",getattr(obj,\"name\"))\n",
    "print(\"hello\",getattr(obj,\"mr.\",\"sathya\")) #We can add the default value\n",
    "print(\"us is \",getattr(obj,\"country\",\"powerful\"))"
   ]
  },
  {
   "cell_type": "markdown",
   "id": "a2f2d3cb",
   "metadata": {},
   "source": [
    "# Python iter() Function"
   ]
  },
  {
   "cell_type": "code",
   "execution_count": 27,
   "id": "8d2a3f79",
   "metadata": {},
   "outputs": [
    {
     "name": "stdout",
     "output_type": "stream",
     "text": [
      "type:  <class 'list'>\n",
      "type:  <class 'list_iterator'>\n",
      "1\n",
      "2\n",
      "3\n",
      "4\n",
      "5\n",
      "6\n",
      "78\n",
      "909\n"
     ]
    },
    {
     "ename": "StopIteration",
     "evalue": "",
     "output_type": "error",
     "traceback": [
      "\u001b[1;31m---------------------------------------------------------------------------\u001b[0m",
      "\u001b[1;31mStopIteration\u001b[0m                             Traceback (most recent call last)",
      "\u001b[1;32m~\\AppData\\Local\\Temp/ipykernel_8592/1784922578.py\u001b[0m in \u001b[0;36m<module>\u001b[1;34m\u001b[0m\n\u001b[0;32m     11\u001b[0m \u001b[0mprint\u001b[0m\u001b[1;33m(\u001b[0m\u001b[0mnext\u001b[0m\u001b[1;33m(\u001b[0m\u001b[0mlist\u001b[0m\u001b[1;33m)\u001b[0m\u001b[1;33m)\u001b[0m\u001b[1;33m\u001b[0m\u001b[1;33m\u001b[0m\u001b[0m\n\u001b[0;32m     12\u001b[0m \u001b[0mprint\u001b[0m\u001b[1;33m(\u001b[0m\u001b[0mnext\u001b[0m\u001b[1;33m(\u001b[0m\u001b[0mlist\u001b[0m\u001b[1;33m)\u001b[0m\u001b[1;33m)\u001b[0m\u001b[1;33m\u001b[0m\u001b[1;33m\u001b[0m\u001b[0m\n\u001b[1;32m---> 13\u001b[1;33m \u001b[0mprint\u001b[0m\u001b[1;33m(\u001b[0m\u001b[0mnext\u001b[0m\u001b[1;33m(\u001b[0m\u001b[0mlist\u001b[0m\u001b[1;33m)\u001b[0m\u001b[1;33m)\u001b[0m\u001b[1;31m# printed more than the  count of elements\u001b[0m\u001b[1;33m\u001b[0m\u001b[1;33m\u001b[0m\u001b[0m\n\u001b[0m\u001b[0;32m     14\u001b[0m \u001b[1;33m\u001b[0m\u001b[0m\n",
      "\u001b[1;31mStopIteration\u001b[0m: "
     ]
    }
   ],
   "source": [
    "list=[1,2,3,4,5,6,78,909]\n",
    "print(\"type: \",str(type(list)))\n",
    "list=iter(list)\n",
    "print(\"type: \",str(type(list)))\n",
    "print(next(list)) # it gives only iteror values\n",
    "print(next(list))\n",
    "print(next(list))\n",
    "print(next(list))\n",
    "print(next(list))\n",
    "print(next(list))\n",
    "print(next(list))\n",
    "print(next(list))\n",
    "print(next(list))# printed more than the  count of elements\n",
    "\n"
   ]
  },
  {
   "cell_type": "code",
   "execution_count": 29,
   "id": "2e283ea6",
   "metadata": {},
   "outputs": [
    {
     "name": "stdout",
     "output_type": "stream",
     "text": [
      "Values at 1st iteration : \n",
      "1\n",
      "22\n",
      "3\n",
      "4\n",
      "5\n",
      "the values of the second iteration :\n"
     ]
    },
    {
     "ename": "StopIteration",
     "evalue": "",
     "output_type": "error",
     "traceback": [
      "\u001b[1;31m---------------------------------------------------------------------------\u001b[0m",
      "\u001b[1;31mStopIteration\u001b[0m                             Traceback (most recent call last)",
      "\u001b[1;32m~\\AppData\\Local\\Temp/ipykernel_8592/1003513563.py\u001b[0m in \u001b[0;36m<module>\u001b[1;34m\u001b[0m\n\u001b[0;32m     10\u001b[0m \u001b[0mprint\u001b[0m\u001b[1;33m(\u001b[0m\u001b[1;34m\"the values of the second iteration :\"\u001b[0m\u001b[1;33m)\u001b[0m\u001b[1;33m\u001b[0m\u001b[1;33m\u001b[0m\u001b[0m\n\u001b[0;32m     11\u001b[0m \u001b[1;32mfor\u001b[0m \u001b[0mi\u001b[0m \u001b[1;32min\u001b[0m \u001b[0mrange\u001b[0m\u001b[1;33m(\u001b[0m\u001b[1;36m0\u001b[0m\u001b[1;33m,\u001b[0m\u001b[1;36m5\u001b[0m\u001b[1;33m)\u001b[0m\u001b[1;33m:\u001b[0m\u001b[1;33m\u001b[0m\u001b[1;33m\u001b[0m\u001b[0m\n\u001b[1;32m---> 12\u001b[1;33m     \u001b[0mprint\u001b[0m\u001b[1;33m(\u001b[0m\u001b[0mnext\u001b[0m\u001b[1;33m(\u001b[0m\u001b[0mlis1\u001b[0m\u001b[1;33m)\u001b[0m\u001b[1;33m)\u001b[0m\u001b[1;33m\u001b[0m\u001b[1;33m\u001b[0m\u001b[0m\n\u001b[0m",
      "\u001b[1;31mStopIteration\u001b[0m: "
     ]
    }
   ],
   "source": [
    "lis1 = [1, 22, 3, 4, 5]\n",
    " \n",
    "# converting list using iter()\n",
    "lis1 = iter(lis1)\n",
    " \n",
    "# prints this\n",
    "print(\"Values at 1st iteration : \")\n",
    "for i in range(0, 5):\n",
    "    print(next(lis1))\n",
    "    \n",
    "print(\"the values of the second iteration :\") #It will not print the values\n",
    "for i in range(0,5):\n",
    "    print(next(lis1))"
   ]
  },
  {
   "cell_type": "code",
   "execution_count": 1,
   "id": "790a8710",
   "metadata": {},
   "outputs": [
    {
     "data": {
      "text/plain": [
       "8"
      ]
     },
     "execution_count": 1,
     "metadata": {},
     "output_type": "execute_result"
    }
   ],
   "source": [
    "list=[1,2,3,4,56,7,8,6]\n",
    "len= list[6]\n",
    "len"
   ]
  },
  {
   "cell_type": "markdown",
   "id": "37565481",
   "metadata": {},
   "source": [
    "# enumerate"
   ]
  },
  {
   "cell_type": "raw",
   "id": "225c86b4",
   "metadata": {},
   "source": [
    "Python enumerate() function returns an enumerated object. It takes two parameters first is a sequence of elements and the second is the start index of the sequence. We can get sequence elements either through a loop or next() method.\n",
    "\n"
   ]
  },
  {
   "cell_type": "code",
   "execution_count": null,
   "id": "a5ea4e8c",
   "metadata": {},
   "outputs": [],
   "source": [
    "Signature\n",
    "enumerate (sequence, start=0)  \n"
   ]
  },
  {
   "cell_type": "code",
   "execution_count": 8,
   "id": "0adccc48",
   "metadata": {},
   "outputs": [
    {
     "name": "stdout",
     "output_type": "stream",
     "text": [
      "<enumerate object at 0x000002088BBF8DC0>\n",
      "[(0, 1), (1, 2), (2, 3), (3, 4), (4, 5), (5, 6), (6, 7)]\n"
     ]
    }
   ],
   "source": [
    "result=enumerate([1,2,3,4,5,6,7])\n",
    "print(result)\n",
    "print(list(result))"
   ]
  },
  {
   "cell_type": "code",
   "execution_count": 14,
   "id": "f6b8dc8d",
   "metadata": {},
   "outputs": [
    {
     "name": "stdout",
     "output_type": "stream",
     "text": [
      "[(10, 1), (11, 2), (12, 3), (13, 4), (14, 5), (15, 6)]\n"
     ]
    }
   ],
   "source": [
    "result=enumerate([1,2,3,4,5,6],10)\n",
    "print(list(result))"
   ]
  },
  {
   "cell_type": "code",
   "execution_count": 17,
   "id": "6b3908c0",
   "metadata": {},
   "outputs": [
    {
     "name": "stdout",
     "output_type": "stream",
     "text": [
      "[(10, 1)]\n"
     ]
    }
   ],
   "source": [
    "result=enumerate([1],10)\n",
    "print(list(result))"
   ]
  },
  {
   "cell_type": "markdown",
   "id": "003102cd",
   "metadata": {},
   "source": [
    "# Map"
   ]
  },
  {
   "cell_type": "code",
   "execution_count": 38,
   "id": "6dadc1f7",
   "metadata": {},
   "outputs": [
    {
     "name": "stdout",
     "output_type": "stream",
     "text": [
      " 23 is odd\n"
     ]
    }
   ],
   "source": [
    "num=23\n",
    "def even_or_odd(num):\n",
    "    if num%2==0:\n",
    "        return \" {} is even\".format(num)\n",
    "    else:\n",
    "        return \" {} is odd\".format(num)\n",
    "    \n",
    "print(even_or_odd(num))"
   ]
  },
  {
   "cell_type": "code",
   "execution_count": 16,
   "id": "85903d27",
   "metadata": {},
   "outputs": [
    {
     "ename": "TypeError",
     "evalue": "unsupported operand type(s) for %: 'list' and 'int'",
     "output_type": "error",
     "traceback": [
      "\u001b[1;31m---------------------------------------------------------------------------\u001b[0m",
      "\u001b[1;31mTypeError\u001b[0m                                 Traceback (most recent call last)",
      "\u001b[1;32m~\\AppData\\Local\\Temp/ipykernel_2376/1068740258.py\u001b[0m in \u001b[0;36m<module>\u001b[1;34m\u001b[0m\n\u001b[0;32m      1\u001b[0m \u001b[0mlist\u001b[0m\u001b[1;33m=\u001b[0m\u001b[1;33m[\u001b[0m\u001b[1;36m1\u001b[0m\u001b[1;33m,\u001b[0m\u001b[1;36m2\u001b[0m\u001b[1;33m,\u001b[0m\u001b[1;36m3\u001b[0m\u001b[1;33m,\u001b[0m\u001b[1;36m4\u001b[0m\u001b[1;33m,\u001b[0m\u001b[1;36m5\u001b[0m\u001b[1;33m,\u001b[0m\u001b[1;36m6\u001b[0m\u001b[1;33m,\u001b[0m\u001b[1;36m7\u001b[0m\u001b[1;33m,\u001b[0m\u001b[1;36m8\u001b[0m\u001b[1;33m,\u001b[0m\u001b[1;36m9\u001b[0m\u001b[1;33m]\u001b[0m\u001b[1;33m\u001b[0m\u001b[1;33m\u001b[0m\u001b[0m\n\u001b[1;32m----> 2\u001b[1;33m \u001b[0meven_or_odd\u001b[0m\u001b[1;33m(\u001b[0m\u001b[0mlist\u001b[0m\u001b[1;33m)\u001b[0m\u001b[1;33m\u001b[0m\u001b[1;33m\u001b[0m\u001b[0m\n\u001b[0m",
      "\u001b[1;32m~\\AppData\\Local\\Temp/ipykernel_2376/2169105012.py\u001b[0m in \u001b[0;36meven_or_odd\u001b[1;34m(num)\u001b[0m\n\u001b[0;32m      1\u001b[0m \u001b[0mnum\u001b[0m\u001b[1;33m=\u001b[0m\u001b[1;36m23\u001b[0m\u001b[1;33m\u001b[0m\u001b[1;33m\u001b[0m\u001b[0m\n\u001b[0;32m      2\u001b[0m \u001b[1;32mdef\u001b[0m \u001b[0meven_or_odd\u001b[0m\u001b[1;33m(\u001b[0m\u001b[0mnum\u001b[0m\u001b[1;33m)\u001b[0m\u001b[1;33m:\u001b[0m\u001b[1;33m\u001b[0m\u001b[1;33m\u001b[0m\u001b[0m\n\u001b[1;32m----> 3\u001b[1;33m     \u001b[1;32mif\u001b[0m \u001b[0mnum\u001b[0m\u001b[1;33m%\u001b[0m\u001b[1;36m2\u001b[0m\u001b[1;33m==\u001b[0m\u001b[1;36m0\u001b[0m\u001b[1;33m:\u001b[0m\u001b[1;33m\u001b[0m\u001b[1;33m\u001b[0m\u001b[0m\n\u001b[0m\u001b[0;32m      4\u001b[0m         \u001b[1;32mreturn\u001b[0m \u001b[1;34m\" {} is even\"\u001b[0m\u001b[1;33m.\u001b[0m\u001b[0mformat\u001b[0m\u001b[1;33m(\u001b[0m\u001b[0mnum\u001b[0m\u001b[1;33m)\u001b[0m\u001b[1;33m\u001b[0m\u001b[1;33m\u001b[0m\u001b[0m\n\u001b[0;32m      5\u001b[0m     \u001b[1;32melse\u001b[0m\u001b[1;33m:\u001b[0m\u001b[1;33m\u001b[0m\u001b[1;33m\u001b[0m\u001b[0m\n",
      "\u001b[1;31mTypeError\u001b[0m: unsupported operand type(s) for %: 'list' and 'int'"
     ]
    }
   ],
   "source": [
    "list=[1,2,3,4,5,6,7,8,9]\n",
    "even_or_odd(list)\n"
   ]
  },
  {
   "cell_type": "code",
   "execution_count": 46,
   "id": "6730eb96",
   "metadata": {},
   "outputs": [],
   "source": [
    "lst=[1,2,3,4,5,67,789]\n",
    "\n"
   ]
  },
  {
   "cell_type": "code",
   "execution_count": 50,
   "id": "9cfb47fd",
   "metadata": {},
   "outputs": [
    {
     "data": {
      "text/plain": [
       "<map at 0x1c2d44f81c0>"
      ]
     },
     "execution_count": 50,
     "metadata": {},
     "output_type": "execute_result"
    }
   ],
   "source": [
    "a=(map(even_or_odd,[1,2,3,4,5,6777777777777777]))\n",
    "a\n"
   ]
  },
  {
   "cell_type": "code",
   "execution_count": 52,
   "id": "d1672db4",
   "metadata": {},
   "outputs": [
    {
     "ename": "TypeError",
     "evalue": "'list' object is not callable",
     "output_type": "error",
     "traceback": [
      "\u001b[1;31m---------------------------------------------------------------------------\u001b[0m",
      "\u001b[1;31mTypeError\u001b[0m                                 Traceback (most recent call last)",
      "\u001b[1;32m~\\AppData\\Local\\Temp/ipykernel_2376/3960866364.py\u001b[0m in \u001b[0;36m<module>\u001b[1;34m\u001b[0m\n\u001b[1;32m----> 1\u001b[1;33m \u001b[0mprint\u001b[0m\u001b[1;33m(\u001b[0m\u001b[0mlist\u001b[0m\u001b[1;33m(\u001b[0m\u001b[0ma\u001b[0m\u001b[1;33m)\u001b[0m\u001b[1;33m)\u001b[0m\u001b[1;33m\u001b[0m\u001b[1;33m\u001b[0m\u001b[0m\n\u001b[0m",
      "\u001b[1;31mTypeError\u001b[0m: 'list' object is not callable"
     ]
    }
   ],
   "source": [
    "print(list(a))"
   ]
  },
  {
   "cell_type": "code",
   "execution_count": 53,
   "id": "5e59daab",
   "metadata": {},
   "outputs": [
    {
     "name": "stdout",
     "output_type": "stream",
     "text": [
      "<map object at 0x000001C2D44F8B80>\n"
     ]
    },
    {
     "ename": "TypeError",
     "evalue": "'list' object is not callable",
     "output_type": "error",
     "traceback": [
      "\u001b[1;31m---------------------------------------------------------------------------\u001b[0m",
      "\u001b[1;31mTypeError\u001b[0m                                 Traceback (most recent call last)",
      "\u001b[1;32m~\\AppData\\Local\\Temp/ipykernel_2376/629450319.py\u001b[0m in \u001b[0;36m<module>\u001b[1;34m\u001b[0m\n\u001b[0;32m      5\u001b[0m \u001b[0mprint\u001b[0m\u001b[1;33m(\u001b[0m\u001b[0moutput\u001b[0m\u001b[1;33m)\u001b[0m\u001b[1;33m\u001b[0m\u001b[1;33m\u001b[0m\u001b[0m\n\u001b[0;32m      6\u001b[0m \u001b[1;31m#prints list of output values\u001b[0m\u001b[1;33m\u001b[0m\u001b[1;33m\u001b[0m\u001b[0m\n\u001b[1;32m----> 7\u001b[1;33m \u001b[0mprint\u001b[0m\u001b[1;33m(\u001b[0m\u001b[0mlist\u001b[0m\u001b[1;33m(\u001b[0m\u001b[0moutput\u001b[0m\u001b[1;33m)\u001b[0m\u001b[1;33m)\u001b[0m\u001b[1;33m\u001b[0m\u001b[1;33m\u001b[0m\u001b[0m\n\u001b[0m",
      "\u001b[1;31mTypeError\u001b[0m: 'list' object is not callable"
     ]
    }
   ],
   "source": [
    "def add_seven(a):\n",
    "    return a+7\n",
    "#applying map function\n",
    "output=map(add_seven,[1,2,3,4,5,6])\n",
    "print(output)\n",
    "#prints list of output values\n",
    "print(list(output))"
   ]
  },
  {
   "cell_type": "code",
   "execution_count": null,
   "id": "3c74f0a5",
   "metadata": {},
   "outputs": [],
   "source": []
  }
 ],
 "metadata": {
  "kernelspec": {
   "display_name": "Python 3 (ipykernel)",
   "language": "python",
   "name": "python3"
  },
  "language_info": {
   "codemirror_mode": {
    "name": "ipython",
    "version": 3
   },
   "file_extension": ".py",
   "mimetype": "text/x-python",
   "name": "python",
   "nbconvert_exporter": "python",
   "pygments_lexer": "ipython3",
   "version": "3.9.9"
  }
 },
 "nbformat": 4,
 "nbformat_minor": 5
}
