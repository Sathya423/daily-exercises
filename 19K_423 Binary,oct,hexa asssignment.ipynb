{
 "cells": [
  {
   "cell_type": "code",
   "execution_count": 17,
   "id": "b2fbd751",
   "metadata": {},
   "outputs": [
    {
     "name": "stdout",
     "output_type": "stream",
     "text": [
      "please enter the no:2022\n",
      "Binary :  0b11111100110\n",
      "octal : 0o3746\n",
      "hexadecimal :  0x7e6\n"
     ]
    }
   ],
   "source": [
    "number = int(input(\"please enter the no:\"))\n",
    "a =bin(number)\n",
    "b = oct(number)\n",
    "c = hex(number)\n",
    "print(\"Binary : \",a)\n",
    "print(\"octal :\" ,b)\n",
    "print(\"hexadecimal : \",c)"
   ]
  },
  {
   "cell_type": "code",
   "execution_count": 13,
   "id": "16283107",
   "metadata": {},
   "outputs": [],
   "source": []
  },
  {
   "cell_type": "code",
   "execution_count": null,
   "id": "5df9870a",
   "metadata": {},
   "outputs": [],
   "source": []
  },
  {
   "cell_type": "code",
   "execution_count": null,
   "id": "0cdb3fb0",
   "metadata": {},
   "outputs": [],
   "source": []
  }
 ],
 "metadata": {
  "kernelspec": {
   "display_name": "Python 3 (ipykernel)",
   "language": "python",
   "name": "python3"
  },
  "language_info": {
   "codemirror_mode": {
    "name": "ipython",
    "version": 3
   },
   "file_extension": ".py",
   "mimetype": "text/x-python",
   "name": "python",
   "nbconvert_exporter": "python",
   "pygments_lexer": "ipython3",
   "version": "3.9.9"
  }
 },
 "nbformat": 4,
 "nbformat_minor": 5
}
