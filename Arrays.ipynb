{
 "cells": [
  {
   "cell_type": "markdown",
   "id": "49203c97",
   "metadata": {},
   "source": [
    "# ARRAYS"
   ]
  },
  {
   "cell_type": "raw",
   "id": "aef09fea",
   "metadata": {},
   "source": [
    " in arrays we can perform  the following operations \n",
    "    \n",
    "Traverse - It prints all the elements one by one.\n",
    "Insertion - It adds an element at the given index.\n",
    "Deletion - It deletes an element at the given index.\n",
    "Search - It searches an element using the given index or by the value.\n",
    "Update - It updates an element at the given index."
   ]
  },
  {
   "cell_type": "code",
   "execution_count": 40,
   "id": "e81013e9",
   "metadata": {},
   "outputs": [
    {
     "name": "stdout",
     "output_type": "stream",
     "text": [
      "array('i', [1, 2, 3, 4, 5, 6])\n",
      "array('i', [1, 2, 11, 12, 1, 6])\n",
      "array('i', [1, 2, 11, 2, 6])\n"
     ]
    }
   ],
   "source": [
    "import array as arr\n",
    "numbers = arr.array(\"i\",[1,2,3,4,5,6])\n",
    "#changing the first element\n",
    "numbers[0] = 1\n",
    "print(numbers)\n",
    "#changing the  elements 2 to 5\n",
    "numbers[2:5]=arr.array(\"i\",[11,12,1])\n",
    "print(numbers)\n",
    "numbers[2:5]=arr.array(\"i\",[11,2])\n",
    "print(numbers)"
   ]
  },
  {
   "cell_type": "markdown",
   "id": "d62684ea",
   "metadata": {},
   "source": [
    "# deleting the eleement from the array"
   ]
  },
  {
   "cell_type": "code",
   "execution_count": 92,
   "id": "7df97a75",
   "metadata": {},
   "outputs": [
    {
     "name": "stdout",
     "output_type": "stream",
     "text": [
      "array('i', [1, 3, 4, 5, 6])\n"
     ]
    }
   ],
   "source": [
    "import array as arr\n",
    "numbers = arr.array(\"i\",[1,2,3,4,5,6])\n",
    "del numbers[1]\n",
    "print(numbers)"
   ]
  },
  {
   "cell_type": "markdown",
   "id": "ae3ae170",
   "metadata": {},
   "source": [
    "# Finding the length of the array"
   ]
  },
  {
   "cell_type": "code",
   "execution_count": 45,
   "id": "afef32d5",
   "metadata": {},
   "outputs": [],
   "source": [
    "arr=(\"1\",[1,2,3,4,5,],\"p,\")"
   ]
  },
  {
   "cell_type": "code",
   "execution_count": 47,
   "id": "f507a45f",
   "metadata": {},
   "outputs": [
    {
     "data": {
      "text/plain": [
       "3"
      ]
     },
     "execution_count": 47,
     "metadata": {},
     "output_type": "execute_result"
    }
   ],
   "source": [
    "len(arr)"
   ]
  },
  {
   "cell_type": "markdown",
   "id": "4f130ffd",
   "metadata": {},
   "source": [
    "# Array Concatenation"
   ]
  },
  {
   "cell_type": "code",
   "execution_count": 89,
   "id": "642b641a",
   "metadata": {},
   "outputs": [
    {
     "name": "stdout",
     "output_type": "stream",
     "text": [
      "the concatenated array is: array('d', [1.1, 2.1, 3.1, 2.6, 7.8, 1.1, 3.7, 8.6, 2.3, 34.0, 2.3])\n"
     ]
    }
   ],
   "source": [
    "\n",
    "a=arr.array('d' ,[1.1 , 2.1 ,3.1,2.6,7.8])\n",
    "b=arr.array('d',[1.1,3.7,8.6])\n",
    "e=arr.array('d' , [2.3 ,34,2.3])\n",
    "c=a+b+e\n",
    "print(\"the concatenated array is:\",c)"
   ]
  },
  {
   "cell_type": "code",
   "execution_count": 90,
   "id": "e33f5f66",
   "metadata": {},
   "outputs": [
    {
     "ename": "ValueError",
     "evalue": "bad typecode (must be b, B, u, h, H, i, I, l, L, q, Q, f or d)",
     "output_type": "error",
     "traceback": [
      "\u001b[1;31m---------------------------------------------------------------------------\u001b[0m",
      "\u001b[1;31mValueError\u001b[0m                                Traceback (most recent call last)",
      "\u001b[1;32m~\\AppData\\Local\\Temp/ipykernel_10452/1292980202.py\u001b[0m in \u001b[0;36m<module>\u001b[1;34m\u001b[0m\n\u001b[0;32m      1\u001b[0m \u001b[0ma\u001b[0m\u001b[1;33m=\u001b[0m\u001b[0marr\u001b[0m\u001b[1;33m.\u001b[0m\u001b[0marray\u001b[0m\u001b[1;33m(\u001b[0m\u001b[1;34m'd'\u001b[0m \u001b[1;33m,\u001b[0m\u001b[1;33m[\u001b[0m\u001b[1;36m1.1\u001b[0m \u001b[1;33m,\u001b[0m \u001b[1;36m2.1\u001b[0m \u001b[1;33m,\u001b[0m\u001b[1;36m3.1\u001b[0m\u001b[1;33m,\u001b[0m\u001b[1;36m2.6\u001b[0m\u001b[1;33m,\u001b[0m\u001b[1;36m7.8\u001b[0m\u001b[1;33m]\u001b[0m\u001b[1;33m)\u001b[0m\u001b[1;33m\u001b[0m\u001b[1;33m\u001b[0m\u001b[0m\n\u001b[0;32m      2\u001b[0m \u001b[0mb\u001b[0m\u001b[1;33m=\u001b[0m\u001b[0marr\u001b[0m\u001b[1;33m.\u001b[0m\u001b[0marray\u001b[0m\u001b[1;33m(\u001b[0m\u001b[1;34m'd'\u001b[0m\u001b[1;33m,\u001b[0m\u001b[1;33m[\u001b[0m\u001b[1;36m1.1\u001b[0m\u001b[1;33m,\u001b[0m\u001b[1;36m3.7\u001b[0m\u001b[1;33m,\u001b[0m\u001b[1;36m8.6\u001b[0m\u001b[1;33m]\u001b[0m\u001b[1;33m)\u001b[0m\u001b[1;33m\u001b[0m\u001b[1;33m\u001b[0m\u001b[0m\n\u001b[1;32m----> 3\u001b[1;33m \u001b[0me\u001b[0m\u001b[1;33m=\u001b[0m\u001b[0marr\u001b[0m\u001b[1;33m.\u001b[0m\u001b[0marray\u001b[0m\u001b[1;33m(\u001b[0m\u001b[1;34m'w'\u001b[0m \u001b[1;33m,\u001b[0m \u001b[1;33m[\u001b[0m\u001b[1;36m2.3\u001b[0m \u001b[1;33m,\u001b[0m\u001b[1;36m34\u001b[0m\u001b[1;33m,\u001b[0m\u001b[1;36m2.3\u001b[0m\u001b[1;33m]\u001b[0m\u001b[1;33m)\u001b[0m\u001b[1;33m\u001b[0m\u001b[1;33m\u001b[0m\u001b[0m\n\u001b[0m\u001b[0;32m      4\u001b[0m \u001b[0mc\u001b[0m\u001b[1;33m=\u001b[0m\u001b[0ma\u001b[0m\u001b[1;33m+\u001b[0m\u001b[0mb\u001b[0m\u001b[1;33m+\u001b[0m\u001b[0me\u001b[0m\u001b[1;33m\u001b[0m\u001b[1;33m\u001b[0m\u001b[0m\n\u001b[0;32m      5\u001b[0m \u001b[0mprint\u001b[0m\u001b[1;33m(\u001b[0m\u001b[1;34m\"the concatenated array is:\"\u001b[0m\u001b[1;33m,\u001b[0m\u001b[0mc\u001b[0m\u001b[1;33m)\u001b[0m\u001b[1;33m\u001b[0m\u001b[1;33m\u001b[0m\u001b[0m\n",
      "\u001b[1;31mValueError\u001b[0m: bad typecode (must be b, B, u, h, H, i, I, l, L, q, Q, f or d)"
     ]
    }
   ],
   "source": [
    "a=arr.array('d' ,[1.1 , 2.1 ,3.1,2.6,7.8])\n",
    "b=arr.array('d',[1.1,3.7,8.6])\n",
    "e=arr.array('w' , [2.3 ,34,2.3])\n",
    "c=a+b+e\n",
    "print(\"the concatenated array is:\",c)"
   ]
  },
  {
   "cell_type": "markdown",
   "id": "d473d5e3",
   "metadata": {},
   "source": [
    "# Importing the element from the ARRAY"
   ]
  },
  {
   "cell_type": "code",
   "execution_count": 102,
   "id": "0b1325ae",
   "metadata": {},
   "outputs": [
    {
     "name": "stdout",
     "output_type": "stream",
     "text": [
      "the first element : 1\n",
      "the second element :  2\n",
      "the third element :  3\n",
      "the fourth element :  4\n",
      "u entered the invalid input\n",
      "your given task is completed\n"
     ]
    }
   ],
   "source": [
    "import array as arr\n",
    "num=arr.array('i',[1,2,3,4,5])\n",
    "print(\"the first element :\",num[0])\n",
    "print(\"the second element : \",num[1])\n",
    "print(\"the third element : \",num[2])\n",
    "print(\"the fourth element : \",num[3])\n",
    "try:\n",
    "    print(\"the 10 element : \",num[11])\n",
    "except:\n",
    "        print(\"u entered the invalid input\")\n",
    "else:\n",
    "    print('hey u am in the else block')\n",
    "            \n",
    "finally:\n",
    "            print(\"your given task is completed\")"
   ]
  },
  {
   "cell_type": "code",
   "execution_count": 107,
   "id": "a085ecca",
   "metadata": {},
   "outputs": [
    {
     "name": "stdout",
     "output_type": "stream",
     "text": [
      "the first element : 1\n",
      "the second element :  2\n",
      "the third element :  3\n",
      "the fourth element :  4\n",
      "the last element is :  5\n",
      "the 10 element :  1\n",
      "hey u am in the else block\n",
      "your given task is completed\n"
     ]
    }
   ],
   "source": [
    "import array as arr\n",
    "num=arr.array('i',[1,2,3,4,5])\n",
    "print(\"the first element :\",num[0])\n",
    "print(\"the second element : \",num[1])\n",
    "print(\"the third element : \",num[2])\n",
    "print(\"the fourth element : \",num[3])\n",
    "print(\"the last element is : \", num[-1])\n",
    "try:\n",
    "    print(\"the 10 element : \",num[0])\n",
    "except:\n",
    "        print(\"u entered the invalid input\")\n",
    "else:\n",
    "    print('hey u am in the else block')\n",
    "            \n",
    "finally:\n",
    "            print(\"your given task is completed\")"
   ]
  },
  {
   "cell_type": "code",
   "execution_count": 1,
   "id": "597a4f01",
   "metadata": {},
   "outputs": [
    {
     "name": "stdout",
     "output_type": "stream",
     "text": [
      "Note: you may need to restart the kernel to use updated packages.\n"
     ]
    },
    {
     "name": "stderr",
     "output_type": "stream",
     "text": [
      "ERROR: You must give at least one requirement to install (see \"pip help install\")\n",
      "WARNING: You are using pip version 21.2.4; however, version 22.0.4 is available.\n",
      "You should consider upgrading via the 'C:\\Users\\User\\AppData\\Local\\Programs\\Python\\Python39\\python.exe -m pip install --upgrade pip' command.\n"
     ]
    }
   ],
   "source": [
    "pip install"
   ]
  },
  {
   "cell_type": "code",
   "execution_count": null,
   "id": "d0354b89",
   "metadata": {},
   "outputs": [],
   "source": []
  },
  {
   "cell_type": "code",
   "execution_count": 1,
   "id": "caecb23f",
   "metadata": {},
   "outputs": [
    {
     "ename": "ModuleNotFoundError",
     "evalue": "No module named 'numpy'",
     "output_type": "error",
     "traceback": [
      "\u001b[1;31m---------------------------------------------------------------------------\u001b[0m",
      "\u001b[1;31mModuleNotFoundError\u001b[0m                       Traceback (most recent call last)",
      "\u001b[1;32m~\\AppData\\Local\\Temp/ipykernel_10932/3593848235.py\u001b[0m in \u001b[0;36m<module>\u001b[1;34m\u001b[0m\n\u001b[1;32m----> 1\u001b[1;33m \u001b[1;32mimport\u001b[0m \u001b[0mnumpy\u001b[0m \u001b[1;32mas\u001b[0m \u001b[0mnp\u001b[0m\u001b[1;33m\u001b[0m\u001b[1;33m\u001b[0m\u001b[0m\n\u001b[0m",
      "\u001b[1;31mModuleNotFoundError\u001b[0m: No module named 'numpy'"
     ]
    }
   ],
   "source": [
    "import numpy as np"
   ]
  },
  {
   "cell_type": "code",
   "execution_count": null,
   "id": "0c52761c",
   "metadata": {},
   "outputs": [],
   "source": []
  }
 ],
 "metadata": {
  "kernelspec": {
   "display_name": "Python 3 (ipykernel)",
   "language": "python",
   "name": "python3"
  },
  "language_info": {
   "codemirror_mode": {
    "name": "ipython",
    "version": 3
   },
   "file_extension": ".py",
   "mimetype": "text/x-python",
   "name": "python",
   "nbconvert_exporter": "python",
   "pygments_lexer": "ipython3",
   "version": "3.9.9"
  }
 },
 "nbformat": 4,
 "nbformat_minor": 5
}
