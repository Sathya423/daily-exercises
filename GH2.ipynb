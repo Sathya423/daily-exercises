{
 "cells": [
  {
   "cell_type": "markdown",
   "id": "52c829f5",
   "metadata": {},
   "source": [
    "# program for simple intrest"
   ]
  },
  {
   "cell_type": "code",
   "execution_count": 1,
   "id": "4455e3ae",
   "metadata": {},
   "outputs": [
    {
     "name": "stdout",
     "output_type": "stream",
     "text": [
      "please enter the the principal amount100000\n",
      "enter the time in monts:12\n",
      "please enter the intrest rate:3\n",
      "total intrest is : 36000.0\n",
      "total amout tobe paid is: 136000.0\n"
     ]
    }
   ],
   "source": [
    "p =float(input(\"please enter the the principal amount\"))\n",
    "try:\n",
    "    t = float(input (\"enter the time in monts:\"))\n",
    "except:\n",
    "        print(\"enter the correct data\")\n",
    "\n",
    "r =float(input(\"please enter the intrest rate:\"))\n",
    "total_intrest = ( p*t*r)/100\n",
    "\n",
    "t_p =total_intrest+ p\n",
    "print(\"total intrest is :\",total_intrest)\n",
    "print(\"total amout tobe paid is:\",t_p) \n",
    "\n"
   ]
  },
  {
   "cell_type": "markdown",
   "id": "76da601e",
   "metadata": {},
   "source": [
    "# Area of circle"
   ]
  },
  {
   "cell_type": "code",
   "execution_count": 2,
   "id": "7ad83b87",
   "metadata": {},
   "outputs": [
    {
     "name": "stdout",
     "output_type": "stream",
     "text": [
      "enter the radius of the circle3\n",
      "the area  is :28.26  for given radius 3.0 \n"
     ]
    }
   ],
   "source": [
    "r = float(input(\"enter the radius of the circle\"))\n",
    "pi = 3.14\n",
    "area =3.14*r**2\n",
    "print(\"the area  is :{}  for given radius {} \".format(area,r))"
   ]
  },
  {
   "cell_type": "markdown",
   "id": "f949e684",
   "metadata": {},
   "source": [
    "# Prime numbers in an interval"
   ]
  },
  {
   "cell_type": "code",
   "execution_count": null,
   "id": "3a7452c3",
   "metadata": {},
   "outputs": [],
   "source": [
    "n =int(input(\"please enteer the starting  number :\"))\n",
    "m = int(input(\"please enter the ending number:\"))\n",
    "for value in range (n,m+1):\n",
    "    print(value, end=\"\" )"
   ]
  },
  {
   "cell_type": "code",
   "execution_count": null,
   "id": "d5498e63",
   "metadata": {},
   "outputs": [],
   "source": []
  }
 ],
 "metadata": {
  "kernelspec": {
   "display_name": "Python 3 (ipykernel)",
   "language": "python",
   "name": "python3"
  },
  "language_info": {
   "codemirror_mode": {
    "name": "ipython",
    "version": 3
   },
   "file_extension": ".py",
   "mimetype": "text/x-python",
   "name": "python",
   "nbconvert_exporter": "python",
   "pygments_lexer": "ipython3",
   "version": "3.9.9"
  }
 },
 "nbformat": 4,
 "nbformat_minor": 5
}
