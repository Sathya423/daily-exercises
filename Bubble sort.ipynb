{
 "cells": [
  {
   "cell_type": "code",
   "execution_count": 7,
   "id": "ad536e4b",
   "metadata": {},
   "outputs": [
    {
     "name": "stdout",
     "output_type": "stream",
     "text": [
      "The unsorted list is:  [5, 3, 8, 6, 7, 2]\n",
      "The sorted list is:  [2, 3, 5, 6, 7, 8]\n"
     ]
    }
   ],
   "source": [
    " def bubble_sort(list1):  \n",
    "    # Outer loop for traverse the entire list  \n",
    "    for i in range(0,len(list1)-1):  \n",
    "        for j in range(len(list1)-1):  \n",
    "            if(list1[j]>list1[j+1]):  \n",
    "                temp = list1[j]  \n",
    "                list1[j] = list1[j+1]  \n",
    "                list1[j+1] = temp  \n",
    "    return list1  \n",
    "  \n",
    "list1 = [5, 3, 8, 6, 7, 2]  \n",
    "print(\"The unsorted list is: \", list1)  \n",
    "# Calling the bubble sort function  \n",
    "print(\"The sorted list is: \", bubble_sort(list1))  "
   ]
  },
  {
   "cell_type": "code",
   "execution_count": null,
   "id": "45574a1d",
   "metadata": {},
   "outputs": [],
   "source": []
  }
 ],
 "metadata": {
  "kernelspec": {
   "display_name": "Python 3 (ipykernel)",
   "language": "python",
   "name": "python3"
  },
  "language_info": {
   "codemirror_mode": {
    "name": "ipython",
    "version": 3
   },
   "file_extension": ".py",
   "mimetype": "text/x-python",
   "name": "python",
   "nbconvert_exporter": "python",
   "pygments_lexer": "ipython3",
   "version": "3.9.9"
  }
 },
 "nbformat": 4,
 "nbformat_minor": 5
}
