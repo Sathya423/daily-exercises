{
 "cells": [
  {
   "cell_type": "markdown",
   "id": "20627447",
   "metadata": {},
   "source": [
    "# Reverse words in a given string"
   ]
  },
  {
   "cell_type": "code",
   "execution_count": 12,
   "id": "f33c75e1",
   "metadata": {},
   "outputs": [
    {
     "data": {
      "text/plain": [
       "['?', 'you', 'are', 'how', 'sathya', '', 'Hello']"
      ]
     },
     "execution_count": 12,
     "metadata": {},
     "output_type": "execute_result"
    }
   ],
   "source": [
    "str=\"Hello  sathya how are you ?\"\n",
    "rev_str = str.split(' ')\n",
    "rev_str[::-1]\n"
   ]
  },
  {
   "cell_type": "code",
   "execution_count": 14,
   "id": "cadd2809",
   "metadata": {},
   "outputs": [
    {
     "name": "stdout",
     "output_type": "stream",
     "text": [
      "The list converted into the string:  apple ball cat Dog Elephant Fish\n"
     ]
    }
   ],
   "source": [
    "# converting the list into string using the join method\n",
    "A=[\"apple\",\"ball\",\"cat\",\"Dog\",\"Elephant\",\"Fish\"]\n",
    "b=\" \".join(A)\n",
    "print(\"The list converted into the string: \",b)"
   ]
  },
  {
   "cell_type": "code",
   "execution_count": 37,
   "id": "049a1ca5",
   "metadata": {},
   "outputs": [
    {
     "name": "stdout",
     "output_type": "stream",
     "text": [
      "  appleballcatDogElephantFish\n"
     ]
    }
   ],
   "source": [
    "# converting the list into string using the  function method\n",
    "def convert(str):\n",
    "    new = \"  \"\n",
    "    \n",
    "    for x in str:\n",
    "        new += x\n",
    "    return new\n",
    "\n",
    "\n",
    "\n",
    "str=[\"apple\",\"ball\",\"cat\",\"Dog\",\"Elephant\",\"Fish\"]\n",
    "print(convert(str))"
   ]
  },
  {
   "cell_type": "code",
   "execution_count": 46,
   "id": "66ec3bea",
   "metadata": {},
   "outputs": [
    {
     "name": "stdout",
     "output_type": "stream",
     "text": [
      "apple ball cat Dog Elephant Fish\n"
     ]
    }
   ],
   "source": [
    "# converting the list into string using the  function method\n",
    "def convert(s):\n",
    "    str1= \" \" # we have to give  space , to get space betweeen elemnets\n",
    "\n",
    "    return (str1.join(s))\n",
    "s=[\"apple\",\"ball\",\"cat\",\"Dog\",\"Elephant\",\"Fish\"]\n",
    "print(convert(s))"
   ]
  },
  {
   "cell_type": "code",
   "execution_count": 13,
   "id": "01f71ce9",
   "metadata": {},
   "outputs": [
    {
     "name": "stdout",
     "output_type": "stream",
     "text": [
      "Given string :  ['America', 'of', 'states', 'united', 'to', 'welcome']\n",
      "String converted to list : ['America', 'of', 'states', 'united', 'to', 'welcome']\n"
     ]
    }
   ],
   "source": [
    "  #Convertin a string into list \n",
    "str=\"welcome to united states of America\"\n",
    "words=str.split(\" \")\n",
    "str_list=list(words)\n",
    "\n",
    "a=str_list[-1::-1]\n",
    "print(\"Given string : \",a)\n",
    "print(\"String converted to list :\",a)\n",
    "\n",
    "\n"
   ]
  },
  {
   "cell_type": "code",
   "execution_count": 25,
   "id": "a34ca0b6",
   "metadata": {},
   "outputs": [
    {
     "name": "stdout",
     "output_type": "stream",
     "text": [
      "['world', 'python', 'hello']\n",
      "world python hello\n"
     ]
    }
   ],
   "source": [
    "##Reversing a string\n",
    "str=\" hello python world\"\n",
    "str_splt=str.split()\n",
    "rev_str=str_splt[-1::-1]\n",
    "print(rev_str)\n",
    "output=\" \".join(rev_str)\n",
    "print(output)\n"
   ]
  },
  {
   "cell_type": "markdown",
   "id": "9ecc7087",
   "metadata": {},
   "source": [
    "# Longest Common Prefix"
   ]
  },
  {
   "cell_type": "code",
   "execution_count": null,
   "id": "86e190df",
   "metadata": {},
   "outputs": [],
   "source": []
  }
 ],
 "metadata": {
  "kernelspec": {
   "display_name": "Python 3 (ipykernel)",
   "language": "python",
   "name": "python3"
  },
  "language_info": {
   "codemirror_mode": {
    "name": "ipython",
    "version": 3
   },
   "file_extension": ".py",
   "mimetype": "text/x-python",
   "name": "python",
   "nbconvert_exporter": "python",
   "pygments_lexer": "ipython3",
   "version": "3.9.9"
  }
 },
 "nbformat": 4,
 "nbformat_minor": 5
}
