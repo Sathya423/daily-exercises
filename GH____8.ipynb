{
 "cells": [
  {
   "cell_type": "markdown",
   "id": "d5a02b9b",
   "metadata": {},
   "source": [
    "# Python program to check whether the given string is Binary or Not"
   ]
  },
  {
   "cell_type": "code",
   "execution_count": 1,
   "id": "24915a7a",
   "metadata": {},
   "outputs": [
    {
     "name": "stdout",
     "output_type": "stream",
     "text": [
      "Given text is not Binary\n"
     ]
    }
   ],
   "source": [
    "\n",
    "bits=\"01\"\n",
    "def Binary_(text):\n",
    "    for t in text:\n",
    "        if t not in bits:\n",
    "            return False\n",
    "    return True\n",
    "text=\"Sathya123\"\n",
    "if Binary_(text)==True:\n",
    "    print(\"given string is Binary\")\n",
    "else:\n",
    "    print(\"Given text is not Binary\")"
   ]
  },
  {
   "cell_type": "markdown",
   "id": "757b73d2",
   "metadata": {},
   "source": [
    "# Python program to split and join a string"
   ]
  },
  {
   "cell_type": "code",
   "execution_count": null,
   "id": "cb4a5fa5",
   "metadata": {},
   "outputs": [],
   "source": [
    "\n",
    " \n",
    "str=\"I wanted to see myself as an Entrapuenuer\"\n",
    "strp=str.split(\" \")  #splits the string\n",
    "print(strp)\n",
    "​\n",
    "strj=\" \".join(strp) #joins the string\n",
    "print(strj)"
   ]
  }
 ],
 "metadata": {
  "kernelspec": {
   "display_name": "Python 3 (ipykernel)",
   "language": "python",
   "name": "python3"
  },
  "language_info": {
   "codemirror_mode": {
    "name": "ipython",
    "version": 3
   },
   "file_extension": ".py",
   "mimetype": "text/x-python",
   "name": "python",
   "nbconvert_exporter": "python",
   "pygments_lexer": "ipython3",
   "version": "3.9.9"
  }
 },
 "nbformat": 4,
 "nbformat_minor": 5
}
