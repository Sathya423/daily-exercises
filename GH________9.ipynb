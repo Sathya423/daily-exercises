{
 "cells": [
  {
   "cell_type": "markdown",
   "id": "bf4af7b1",
   "metadata": {},
   "source": [
    "# exceptions"
   ]
  },
  {
   "cell_type": "code",
   "execution_count": 2,
   "id": "a23945af",
   "metadata": {},
   "outputs": [
    {
     "name": "stdout",
     "output_type": "stream",
     "text": [
      "enter a number1:w\n",
      "invalid operation\n"
     ]
    }
   ],
   "source": [
    "try:\n",
    "    a=int(input(\"enter a number1:\"))\n",
    "    b=int(input(\"enter the number2:\"))\n",
    "    c=a/b\n",
    "    #print (\" the required  ans is :\",c)\n",
    "    print(\"a/b=%d\" %c)\n",
    "except:\n",
    "    print(\"invalid operation\")"
   ]
  },
  {
   "cell_type": "code",
   "execution_count": 1,
   "id": "32b92e2e",
   "metadata": {},
   "outputs": [
    {
     "name": "stdout",
     "output_type": "stream",
     "text": [
      "enter a number1:1\n",
      "enter the number2:2\n",
      "a/b=1\n",
      " i'm in th eelse block\n"
     ]
    }
   ],
   "source": [
    "try:\n",
    "    a=int(input(\"enter a number1:\"))\n",
    "    b=int(input(\"enter the number2:\"))\n",
    "    c=a%b\n",
    "    #print (\" the required  ans is :\",c)\n",
    "    print(\"a/b=%d\" %c)\n",
    "except:\n",
    "    print(\"invalid operation\")\n",
    "else:\n",
    "    print(\" i'm in th eelse block\")"
   ]
  },
  {
   "cell_type": "code",
   "execution_count": 2,
   "id": "897ebdb7",
   "metadata": {},
   "outputs": [
    {
     "ename": "SyntaxError",
     "evalue": "invalid syntax (Temp/ipykernel_21408/3843160488.py, line 10)",
     "output_type": "error",
     "traceback": [
      "\u001b[1;36m  File \u001b[1;32m\"C:\\Users\\User\\AppData\\Local\\Temp/ipykernel_21408/3843160488.py\"\u001b[1;36m, line \u001b[1;32m10\u001b[0m\n\u001b[1;33m    print(\" i'm in th eelse block\")31\u001b[0m\n\u001b[1;37m                                   ^\u001b[0m\n\u001b[1;31mSyntaxError\u001b[0m\u001b[1;31m:\u001b[0m invalid syntax\n"
     ]
    }
   ],
   "source": [
    "try:\n",
    "    a=int(input(\"enter a number1:\"))\n",
    "    b=int(input(\"enter the number2:\"))\n",
    "    c=a%b\n",
    "    #print (\" the required  ans is :\",c)\n",
    "    print(\"a/b=%d\" %c)\n",
    "except:\n",
    "    print(\"invalid operation\")\n",
    "else:\n",
    "    print(\" i'm in th eelse block\")31"
   ]
  },
  {
   "cell_type": "code",
   "execution_count": null,
   "id": "47729dbd",
   "metadata": {},
   "outputs": [],
   "source": []
  }
 ],
 "metadata": {
  "kernelspec": {
   "display_name": "Python 3 (ipykernel)",
   "language": "python",
   "name": "python3"
  },
  "language_info": {
   "codemirror_mode": {
    "name": "ipython",
    "version": 3
   },
   "file_extension": ".py",
   "mimetype": "text/x-python",
   "name": "python",
   "nbconvert_exporter": "python",
   "pygments_lexer": "ipython3",
   "version": "3.9.9"
  }
 },
 "nbformat": 4,
 "nbformat_minor": 5
}
