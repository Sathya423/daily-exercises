{
 "cells": [
  {
   "cell_type": "markdown",
   "id": "5968360f",
   "metadata": {},
   "source": [
    "# list comprehension"
   ]
  },
  {
   "cell_type": "raw",
   "id": "35fcc0b6",
   "metadata": {},
   "source": [
    "It is the easiest and fastest way to  create the list"
   ]
  },
  {
   "cell_type": "raw",
   "id": "9cb9e3fd",
   "metadata": {},
   "source": [
    "syntax [expression for item in iterable]"
   ]
  },
  {
   "cell_type": "code",
   "execution_count": 4,
   "id": "a8e9bfa9",
   "metadata": {},
   "outputs": [
    {
     "ename": "SyntaxError",
     "evalue": "cannot assign to literal (Temp/ipykernel_22248/3056758882.py, line 1)",
     "output_type": "error",
     "traceback": [
      "\u001b[1;36m  File \u001b[1;32m\"C:\\Users\\User\\AppData\\Local\\Temp/ipykernel_22248/3056758882.py\"\u001b[1;36m, line \u001b[1;32m1\u001b[0m\n\u001b[1;33m    [\"sathya\" for \"sathya\" in range(1,5)]\u001b[0m\n\u001b[1;37m                  ^\u001b[0m\n\u001b[1;31mSyntaxError\u001b[0m\u001b[1;31m:\u001b[0m cannot assign to literal\n"
     ]
    }
   ],
   "source": [
    "[\"sathya\" for \"sathya\" in range(1,5)]"
   ]
  },
  {
   "cell_type": "code",
   "execution_count": 2,
   "id": "37207f8e",
   "metadata": {},
   "outputs": [
    {
     "data": {
      "text/plain": [
       "[0, 1, 2, 3, 4, 5, 6, 7, 8, 9, 10]"
      ]
     },
     "execution_count": 2,
     "metadata": {},
     "output_type": "execute_result"
    }
   ],
   "source": [
    "[x for x in range(0,11)]"
   ]
  },
  {
   "cell_type": "markdown",
   "id": "5f25998b",
   "metadata": {},
   "source": [
    "# using condition"
   ]
  },
  {
   "cell_type": "code",
   "execution_count": 8,
   "id": "f7664b30",
   "metadata": {},
   "outputs": [
    {
     "data": {
      "text/plain": [
       "[12, 14, 16, 18, 20]"
      ]
     },
     "execution_count": 8,
     "metadata": {},
     "output_type": "execute_result"
    }
   ],
   "source": [
    "[q for q  in range(11,22) if q%2==0] # it prints all even numbers ()\n"
   ]
  },
  {
   "cell_type": "code",
   "execution_count": null,
   "id": "dd163661",
   "metadata": {},
   "outputs": [],
   "source": [
    "if else condition"
   ]
  },
  {
   "cell_type": "code",
   "execution_count": 10,
   "id": "4f66c4bb",
   "metadata": {},
   "outputs": [
    {
     "data": {
      "text/plain": [
       "[4, 5, 6, 4, 5, 6]"
      ]
     },
     "execution_count": 10,
     "metadata": {},
     "output_type": "execute_result"
    }
   ],
   "source": [
    "[x if x>3 else x+3 for x in range(1,7)] #"
   ]
  },
  {
   "cell_type": "code",
   "execution_count": 16,
   "id": "f55ce0c7",
   "metadata": {},
   "outputs": [
    {
     "name": "stdout",
     "output_type": "stream",
     "text": [
      "['p', 'y', 't', 'h', 'o', 'n']\n"
     ]
    }
   ],
   "source": [
    "letters=[]\n",
    "for letter in \"python\":\n",
    "    letters.append(letter)\n",
    "print(letters)"
   ]
  },
  {
   "cell_type": "code",
   "execution_count": 21,
   "id": "cc4c5b20",
   "metadata": {},
   "outputs": [
    {
     "name": "stdout",
     "output_type": "stream",
     "text": [
      "['A', 'p', 'p', 'l', 'e']\n"
     ]
    }
   ],
   "source": [
    "fruits=[]\n",
    "for letter in \"Apple\":\n",
    "    fruits.append(letter)\n",
    "print(fruits)"
   ]
  },
  {
   "cell_type": "code",
   "execution_count": 24,
   "id": "c73e6a67",
   "metadata": {},
   "outputs": [
    {
     "name": "stdout",
     "output_type": "stream",
     "text": [
      "os\n"
     ]
    }
   ],
   "source": [
    "x={\"chrome\":\"Browser\",\"Windows\":\"os\",\"c\":\"language\"}\n",
    "print(x[\"Windows\"])"
   ]
  },
  {
   "cell_type": "code",
   "execution_count": 25,
   "id": "ae1ccde2",
   "metadata": {},
   "outputs": [
    {
     "name": "stdout",
     "output_type": "stream",
     "text": [
      "{'chrome': 'Browser', 'Windows': 'os', 'c': 'language', 'mouse': 'Hardware'}\n"
     ]
    }
   ],
   "source": [
    "x={\"chrome\":\"Browser\",\"Windows\":\"os\",\"c\":\"language\"}\n",
    "x[\"mouse\"]=\"Hardware\"\n",
    "print(x)"
   ]
  },
  {
   "cell_type": "code",
   "execution_count": 1,
   "id": "1278505e",
   "metadata": {},
   "outputs": [
    {
     "data": {
      "text/plain": [
       "(1, 'sathya', 'M')"
      ]
     },
     "execution_count": 1,
     "metadata": {},
     "output_type": "execute_result"
    }
   ],
   "source": [
    "a=(1,\"sathya\",\"M\")\n",
    "a"
   ]
  },
  {
   "cell_type": "markdown",
   "id": "1f42702b",
   "metadata": {},
   "source": [
    "# Array operations"
   ]
  },
  {
   "cell_type": "raw",
   "id": "217b21a4",
   "metadata": {},
   "source": [
    "Traverse:It prints all theelements one by one"
   ]
  },
  {
   "cell_type": "raw",
   "id": "0b0133fb",
   "metadata": {},
   "source": [
    "Insertion : It adds an element at the given index"
   ]
  },
  {
   "cell_type": "raw",
   "id": "4091fb0d",
   "metadata": {},
   "source": [
    "\n",
    "deletion: It deletes the element at the given index\n",
    "    "
   ]
  },
  {
   "cell_type": "raw",
   "id": "fe1e16ac",
   "metadata": {},
   "source": [
    "Search:It searches the element at the given index"
   ]
  },
  {
   "cell_type": "code",
   "execution_count": null,
   "id": "359d9286",
   "metadata": {},
   "outputs": [],
   "source": [
    "Update: It updates the element at the given index"
   ]
  },
  {
   "cell_type": "code",
   "execution_count": 3,
   "id": "ba8edbcf",
   "metadata": {},
   "outputs": [
    {
     "name": "stdout",
     "output_type": "stream",
     "text": [
      "First element: 2\n",
      "Second element: 4\n",
      "Second last element: 8\n"
     ]
    }
   ],
   "source": [
    "import array as arr  \n",
    "a = arr.array('i', [2, 4, 6, 8])  \n",
    "print(\"First element:\", a[0])  \n",
    "print(\"Second element:\", a[1])  \n",
    "print(\"Second last element:\", a[-1])  "
   ]
  },
  {
   "cell_type": "code",
   "execution_count": 4,
   "id": "e9513fdf",
   "metadata": {},
   "outputs": [],
   "source": [
    "#adding the element"
   ]
  },
  {
   "cell_type": "code",
   "execution_count": 5,
   "id": "378311b1",
   "metadata": {},
   "outputs": [
    {
     "name": "stdout",
     "output_type": "stream",
     "text": [
      "array('i', [0, 2, 3, 5, 7, 10])\n",
      "array('i', [0, 2, 4, 6, 8, 10])\n"
     ]
    }
   ],
   "source": [
    "import array as arr  \n",
    "numbers = arr.array('i', [1, 2, 3, 5, 7, 10])  \n",
    "   \n",
    "# changing first element  \n",
    "numbers[0] = 0     \n",
    "print(numbers)    # Output: array('i', [0, 2, 3, 5, 7, 10])  \n",
    "   \n",
    "# changing 3rd to 5th element  \n",
    "numbers[2:5] = arr.array('i', [4, 6, 8])    \n",
    "print(numbers)    # Output: array('i', [0, 2, 4, 6, 8, 10])  "
   ]
  },
  {
   "cell_type": "markdown",
   "id": "067f3aa5",
   "metadata": {},
   "source": [
    "# deleting the element "
   ]
  },
  {
   "cell_type": "code",
   "execution_count": 6,
   "id": "ebd637c1",
   "metadata": {},
   "outputs": [
    {
     "name": "stdout",
     "output_type": "stream",
     "text": [
      "array('i', [1, 2, 3, 4])\n"
     ]
    }
   ],
   "source": [
    "import array as arr  \n",
    "number = arr.array('i', [1, 2, 3, 3, 4])  \n",
    "del number[2]                           # removing third element  \n",
    "print(number)                           # Output: array('i', [1, 2, 3, 4])  "
   ]
  },
  {
   "cell_type": "markdown",
   "id": "b605ae3a",
   "metadata": {},
   "source": [
    "# array concatenation"
   ]
  },
  {
   "cell_type": "code",
   "execution_count": 8,
   "id": "9c829c70",
   "metadata": {},
   "outputs": [
    {
     "name": "stdout",
     "output_type": "stream",
     "text": [
      "Array c =  array('d', [1.1, 2.1, 3.1, 2.6, 7.8, 3.7, 8.6])\n"
     ]
    }
   ],
   "source": [
    "a=arr.array('d',[1.1 , 2.1 ,3.1,2.6,7.8])  \n",
    "b=arr.array('d',[3.7,8.6])  \n",
    "c=arr.array('d')  \n",
    "c=a+b  \n",
    "print(\"Array c = \",c)  "
   ]
  },
  {
   "cell_type": "code",
   "execution_count": null,
   "id": "65f42802",
   "metadata": {},
   "outputs": [],
   "source": []
  }
 ],
 "metadata": {
  "kernelspec": {
   "display_name": "Python 3 (ipykernel)",
   "language": "python",
   "name": "python3"
  },
  "language_info": {
   "codemirror_mode": {
    "name": "ipython",
    "version": 3
   },
   "file_extension": ".py",
   "mimetype": "text/x-python",
   "name": "python",
   "nbconvert_exporter": "python",
   "pygments_lexer": "ipython3",
   "version": "3.9.9"
  }
 },
 "nbformat": 4,
 "nbformat_minor": 5
}
