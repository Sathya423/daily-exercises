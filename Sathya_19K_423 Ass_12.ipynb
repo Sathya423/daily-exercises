{
 "cells": [
  {
   "cell_type": "code",
   "execution_count": 7,
   "id": "5a1cde19",
   "metadata": {},
   "outputs": [
    {
     "name": "stdout",
     "output_type": "stream",
     "text": [
      "Enter the string: MISSIPP\n",
      "['i', 's', 'p']\n"
     ]
    }
   ],
   "source": [
    "def most_repeat_letter():\n",
    "    word=input(\"Enter the string: \").lower()\n",
    "    letter_freq={}\n",
    "    max_frequency=0\n",
    "    key_values=[]\n",
    "    for i in word:\n",
    "        if i in letter_freq:\n",
    "            letter_freq[i]+=1\n",
    "        else:\n",
    "            letter_freq[i]=1\n",
    "        if max_frequency<letter_freq[i]:\n",
    "             max_frequency=letter_freq[i]\n",
    "    for key,value in letter_freq.items():\n",
    "        if value==max_frequency:\n",
    "            key_values.append(key)\n",
    "    print(key_values)\n",
    "most_repeat_letter()"
   ]
  },
  {
   "cell_type": "code",
   "execution_count": null,
   "id": "62fa0b84",
   "metadata": {},
   "outputs": [],
   "source": []
  }
 ],
 "metadata": {
  "kernelspec": {
   "display_name": "Python 3 (ipykernel)",
   "language": "python",
   "name": "python3"
  },
  "language_info": {
   "codemirror_mode": {
    "name": "ipython",
    "version": 3
   },
   "file_extension": ".py",
   "mimetype": "text/x-python",
   "name": "python",
   "nbconvert_exporter": "python",
   "pygments_lexer": "ipython3",
   "version": "3.9.9"
  }
 },
 "nbformat": 4,
 "nbformat_minor": 5
}
