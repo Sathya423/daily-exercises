{
 "cells": [
  {
   "cell_type": "code",
   "execution_count": 1,
   "id": "9a70e9f1",
   "metadata": {},
   "outputs": [
    {
     "name": "stdout",
     "output_type": "stream",
     "text": [
      "enter a number1:w\n",
      "invalid operation\n"
     ]
    }
   ],
   "source": [
    "try:\n",
    "    a=int(input(\"enter a number1:\"))\n",
    "    b=int(input(\"enter the number2:\"))\n",
    "    c=a/b\n",
    "    #print (\" the required  ans is :\",c)\n",
    "    print(\"a/b=%d\" %c)\n",
    "except:\n",
    "    print(\"invalid operation\")"
   ]
  },
  {
   "cell_type": "code",
   "execution_count": 3,
   "id": "eec1fa6d",
   "metadata": {},
   "outputs": [
    {
     "name": "stdout",
     "output_type": "stream",
     "text": [
      "enter a number1:1\n",
      "enter the number2:t\n",
      "invalid operation\n"
     ]
    }
   ],
   "source": [
    "try:\n",
    "    a=int(input(\"enter a number1:\"))\n",
    "    b=int(input(\"enter the number2:\"))\n",
    "    c=a/b\n",
    "    #print (\" the required  ans is :\",c)\n",
    "    print(\"a/b=%d\" %c)\n",
    "except:\n",
    "    print(\"invalid operation\")"
   ]
  },
  {
   "cell_type": "code",
   "execution_count": 4,
   "id": "0c70194f",
   "metadata": {},
   "outputs": [
    {
     "name": "stdout",
     "output_type": "stream",
     "text": [
      "enter a number1:12\n",
      "enter the number2:1234\n",
      "a/b=12\n",
      " i'm in th eelse block\n"
     ]
    }
   ],
   "source": [
    "try:\n",
    "    a=int(input(\"enter a number1:\"))\n",
    "    b=int(input(\"enter the number2:\"))\n",
    "    c=a%b\n",
    "    #print (\" the required  ans is :\",c)\n",
    "    print(\"a/b=%d\" %c)\n",
    "except:\n",
    "    print(\"invalid operation\")\n",
    "else:\n",
    "    print(\" i'm in th eelse block\")"
   ]
  },
  {
   "cell_type": "code",
   "execution_count": null,
   "id": "e772cadf",
   "metadata": {},
   "outputs": [],
   "source": []
  }
 ],
 "metadata": {
  "kernelspec": {
   "display_name": "Python 3 (ipykernel)",
   "language": "python",
   "name": "python3"
  },
  "language_info": {
   "codemirror_mode": {
    "name": "ipython",
    "version": 3
   },
   "file_extension": ".py",
   "mimetype": "text/x-python",
   "name": "python",
   "nbconvert_exporter": "python",
   "pygments_lexer": "ipython3",
   "version": "3.9.9"
  }
 },
 "nbformat": 4,
 "nbformat_minor": 5
}
