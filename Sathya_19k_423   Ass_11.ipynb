{
 "cells": [
  {
   "cell_type": "code",
   "execution_count": null,
   "id": "fd4367c6",
   "metadata": {},
   "outputs": [],
   "source": [
    "string=input(\"Enter the message:\\n\")\n",
    "shift=int(input(\"Enter the value of shift:\\n\"))\n",
    "cipher=''\n",
    "for char in string:\n",
    "    if not char.isalpha():\n",
    "        cipher =cipher + char\n",
    "    elif char.isupper():\n",
    "        cipher=cipher + chr((ord(char)+shift -65)%26 +65)\n",
    "    else:\n",
    "        cipher=cipher+chr((ord(char) + shift-97)%26+97)\n",
    "    print(cipher)"
   ]
  },
  {
   "cell_type": "code",
   "execution_count": null,
   "id": "795655c4",
   "metadata": {},
   "outputs": [],
   "source": []
  }
 ],
 "metadata": {
  "kernelspec": {
   "display_name": "Python 3 (ipykernel)",
   "language": "python",
   "name": "python3"
  },
  "language_info": {
   "codemirror_mode": {
    "name": "ipython",
    "version": 3
   },
   "file_extension": ".py",
   "mimetype": "text/x-python",
   "name": "python",
   "nbconvert_exporter": "python",
   "pygments_lexer": "ipython3",
   "version": "3.9.9"
  }
 },
 "nbformat": 4,
 "nbformat_minor": 5
}
