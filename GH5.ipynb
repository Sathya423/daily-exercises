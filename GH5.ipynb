{
 "cells": [
  {
   "cell_type": "markdown",
   "id": "bfc468cf",
   "metadata": {},
   "source": [
    "# Python Program to find sum of array"
   ]
  },
  {
   "cell_type": "code",
   "execution_count": 2,
   "id": "5ec0aa7d",
   "metadata": {},
   "outputs": [
    {
     "name": "stdout",
     "output_type": "stream",
     "text": [
      "3\n"
     ]
    }
   ],
   "source": [
    "\n",
    "arr =[\"sathya\",\"sai\",\"ram\"]\n",
    "a = len(arr) #length of an array\n",
    "print(a)\n",
    "\n",
    "\n"
   ]
  },
  {
   "cell_type": "code",
   "execution_count": 5,
   "id": "63fb2593",
   "metadata": {},
   "outputs": [
    {
     "name": "stdout",
     "output_type": "stream",
     "text": [
      "Sum of the array is  34\n"
     ]
    }
   ],
   "source": [
    "def _sum(arr): \n",
    "      \n",
    "    \n",
    "    sum=0\n",
    "      \n",
    "    \n",
    "    for i in arr:\n",
    "        sum = sum + i\n",
    "          \n",
    "    return(sum) \n",
    "  \n",
    "# driver function \n",
    "arr=[] \n",
    "# input values to list \n",
    "arr = [12, 3, 4, 15] \n",
    "  \n",
    "# calculating length of array \n",
    "n = len(arr) \n",
    "  \n",
    "ans = _sum(arr) \n",
    "  \n",
    "# display sum \n",
    "print ('Sum of the array is ', ans) "
   ]
  },
  {
   "cell_type": "markdown",
   "id": "cd489eda",
   "metadata": {},
   "source": [
    "# Python Program to find largest element in an array"
   ]
  },
  {
   "cell_type": "code",
   "execution_count": 6,
   "id": "42fe72fb",
   "metadata": {},
   "outputs": [
    {
     "name": "stdout",
     "output_type": "stream",
     "text": [
      "77\n"
     ]
    }
   ],
   "source": [
    "\n",
    "\n",
    "max=arr[0]\n",
    "arr=[1,2,3,4,5,6,7,8,77]\n",
    "n=len(arr)\n",
    "for value in range(1,n):\n",
    "    if arr[value] > max:\n",
    "        max=arr[value]\n",
    "print(max)"
   ]
  },
  {
   "cell_type": "code",
   "execution_count": null,
   "id": "b7d8ba28",
   "metadata": {},
   "outputs": [],
   "source": []
  }
 ],
 "metadata": {
  "kernelspec": {
   "display_name": "Python 3 (ipykernel)",
   "language": "python",
   "name": "python3"
  },
  "language_info": {
   "codemirror_mode": {
    "name": "ipython",
    "version": 3
   },
   "file_extension": ".py",
   "mimetype": "text/x-python",
   "name": "python",
   "nbconvert_exporter": "python",
   "pygments_lexer": "ipython3",
   "version": "3.9.9"
  }
 },
 "nbformat": 4,
 "nbformat_minor": 5
}
