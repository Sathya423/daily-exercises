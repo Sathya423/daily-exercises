{
 "cells": [
  {
   "cell_type": "markdown",
   "id": "0c529cae",
   "metadata": {},
   "source": [
    "# Python Lambda Functions\n"
   ]
  },
  {
   "cell_type": "raw",
   "id": "072fbf9a",
   "metadata": {},
   "source": [
    "Python Lambda function is known as the anonymous function that is defined without a name. Python allows us to not declare the function in the standard manner, i.e., by using the def keyword. Rather, the anonymous functions are declared by using the lambda keyword. However, Lambda functions can accept any number of arguments, but they can return only one value in the form of expression."
   ]
  },
  {
   "cell_type": "code",
   "execution_count": null,
   "id": "7227d995",
   "metadata": {},
   "outputs": [],
   "source": [
    "syntax: lambda arguments:Expression"
   ]
  },
  {
   "cell_type": "code",
   "execution_count": 10,
   "id": "06569136",
   "metadata": {},
   "outputs": [
    {
     "name": "stdout",
     "output_type": "stream",
     "text": [
      "<function <lambda> at 0x0000026C52CFE700>\n",
      "sum: 30\n"
     ]
    }
   ],
   "source": [
    "x=lambda a:a+10 \n",
    "print(x)             #Actual flow is performed below\n",
    "print(\"sum:\",x(20))"
   ]
  },
  {
   "cell_type": "code",
   "execution_count": null,
   "id": "e4035f4f",
   "metadata": {},
   "outputs": [],
   "source": [
    "def x(a):  \n",
    "    return a+10  #flow of the above  example\n",
    "print(sum = x(10))  "
   ]
  },
  {
   "cell_type": "code",
   "execution_count": 9,
   "id": "5f3cd9f2",
   "metadata": {},
   "outputs": [
    {
     "name": "stdout",
     "output_type": "stream",
     "text": [
      "Enter the value123\n",
      "The requried mul is: 1230\n"
     ]
    }
   ],
   "source": [
    "y=lambda b:a*10\n",
    "a= int(input(\"Enter the value\"))\n",
    "print(\"The requried mul is:\",y(b))"
   ]
  },
  {
   "cell_type": "code",
   "execution_count": 3,
   "id": "786f526a",
   "metadata": {},
   "outputs": [
    {
     "name": "stdout",
     "output_type": "stream",
     "text": [
      "<function <lambda> at 0x00000171B94CEEE0>\n"
     ]
    }
   ],
   "source": [
    "# Python program to demonstrate\n",
    "# lambda functions\n",
    " \n",
    " \n",
    "string ='GeeksforGeeks'\n",
    " \n",
    "# lambda returns a function object\n",
    "print(lambda string :string)"
   ]
  },
  {
   "cell_type": "code",
   "execution_count": 6,
   "id": "addd62a0",
   "metadata": {},
   "outputs": [
    {
     "data": {
      "text/plain": [
       "str"
      ]
     },
     "execution_count": 6,
     "metadata": {},
     "output_type": "execute_result"
    }
   ],
   "source": [
    "string ='GeeksforGeeks'\n",
    "type(string)"
   ]
  },
  {
   "cell_type": "code",
   "execution_count": 12,
   "id": "1306f7d3",
   "metadata": {},
   "outputs": [
    {
     "name": "stdout",
     "output_type": "stream",
     "text": [
      "343\n",
      "27\n"
     ]
    }
   ],
   "source": [
    "def cube(y):\n",
    "    return y*y*y\n",
    "g=lambda x:x*x*x\n",
    "print(g(7))\n",
    "print(cube(3))"
   ]
  },
  {
   "cell_type": "markdown",
   "id": "3bcfe5bd",
   "metadata": {},
   "source": [
    "# Use lambda function with filter()"
   ]
  },
  {
   "cell_type": "raw",
   "id": "55047181",
   "metadata": {},
   "source": [
    "The Python built-in filter() function accepts a function and a list as an argument. It provides an effective way to filter out all elements of the sequence. It returns the new sequence in which the function evaluates to True."
   ]
  },
  {
   "cell_type": "code",
   "execution_count": 25,
   "id": "565565d6",
   "metadata": {},
   "outputs": [
    {
     "name": "stdout",
     "output_type": "stream",
     "text": [
      "[100, 2, 8, 60, 4, 10]\n",
      "[True, True, True, True, False, True, False, False, True, False]\n"
     ]
    }
   ],
   "source": [
    "# Python program to demonstrate\n",
    "# lambda functions inside map()\n",
    "# and filter()\n",
    " \n",
    " \n",
    "a = [100, 2, 8, 60, 5, 4, 3, 31, 10, 11]\n",
    " \n",
    "# in filter either we use assignment or\n",
    "# conditional operator, the pass actual\n",
    "# parameter will get return\n",
    "\n",
    "filtered = filter (lambda x: x % 2 == 0,a)\n",
    "print(list(filtered))\n",
    " \n",
    "# in map either we use assignment or\n",
    "# conditional operator, the result of\n",
    "# the value will get returned\n",
    "mapped = map (lambda x: x % 2 == 0, a)\n",
    "print(list(mapped))"
   ]
  },
  {
   "cell_type": "code",
   "execution_count": null,
   "id": "ae11f495",
   "metadata": {},
   "outputs": [],
   "source": []
  }
 ],
 "metadata": {
  "kernelspec": {
   "display_name": "Python 3 (ipykernel)",
   "language": "python",
   "name": "python3"
  },
  "language_info": {
   "codemirror_mode": {
    "name": "ipython",
    "version": 3
   },
   "file_extension": ".py",
   "mimetype": "text/x-python",
   "name": "python",
   "nbconvert_exporter": "python",
   "pygments_lexer": "ipython3",
   "version": "3.9.9"
  }
 },
 "nbformat": 4,
 "nbformat_minor": 5
}
