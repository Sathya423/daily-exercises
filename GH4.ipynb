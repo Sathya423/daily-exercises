{
 "cells": [
  {
   "cell_type": "markdown",
   "id": "ed80b81a",
   "metadata": {},
   "source": [
    "# ascii value of the given character\n"
   ]
  },
  {
   "cell_type": "code",
   "execution_count": 3,
   "id": "a2b2532a",
   "metadata": {},
   "outputs": [
    {
     "name": "stdout",
     "output_type": "stream",
     "text": [
      "enter the character :2\n",
      "the ascii value of given character  2  is: 50\n"
     ]
    }
   ],
   "source": [
    "\n",
    "\n",
    "n =input(\"enter the character :\")#ord() is used find ascii value\n",
    "print(\"the ascii value of given character  \"  + n +  \"  is:\", ord(n))# (+n+) is used to assin given character\n"
   ]
  },
  {
   "cell_type": "markdown",
   "id": "e87d20c2",
   "metadata": {},
   "source": [
    "# Sum of squares of firs using functiont n natural numbers using function"
   ]
  },
  {
   "cell_type": "code",
   "execution_count": 2,
   "id": "feddc076",
   "metadata": {},
   "outputs": [
    {
     "name": "stdout",
     "output_type": "stream",
     "text": [
      "enter a no:12\n",
      "The sum of square of first n natural numbers is:  650\n"
     ]
    }
   ],
   "source": [
    "\n",
    "\n",
    "def squares(n):\n",
    "    #n= int(input(\"enter a no:\"))\n",
    "    sm =0\n",
    "    for i in range (1,n+1):\n",
    "        sm =sm +(i*i)\n",
    "    return sm\n",
    "n= int(input(\"enter a no:\"))\n",
    "    \n",
    "print(\"The sum of square of first n natural numbers is: \",squares(n))\n",
    "\n"
   ]
  },
  {
   "cell_type": "markdown",
   "id": "375761a8",
   "metadata": {},
   "source": [
    "# Python Program for cube sum of first n natural numbers"
   ]
  },
  {
   "cell_type": "code",
   "execution_count": 3,
   "id": "41eb4c83",
   "metadata": {},
   "outputs": [
    {
     "name": "stdout",
     "output_type": "stream",
     "text": [
      "enter a number:23\n"
     ]
    },
    {
     "data": {
      "text/plain": [
       "76176"
      ]
     },
     "execution_count": 3,
     "metadata": {},
     "output_type": "execute_result"
    }
   ],
   "source": [
    "\n",
    "def cubes(n):\n",
    "    sm = 0\n",
    "    for i in range (1 , n+1):\n",
    "        sm = sm + (i*i*i)\n",
    "    return sm\n",
    "n = int(input(\"enter a number:\"))\n",
    "cubes(n)"
   ]
  },
  {
   "cell_type": "code",
   "execution_count": null,
   "id": "ac3529d0",
   "metadata": {},
   "outputs": [],
   "source": []
  }
 ],
 "metadata": {
  "kernelspec": {
   "display_name": "Python 3 (ipykernel)",
   "language": "python",
   "name": "python3"
  },
  "language_info": {
   "codemirror_mode": {
    "name": "ipython",
    "version": 3
   },
   "file_extension": ".py",
   "mimetype": "text/x-python",
   "name": "python",
   "nbconvert_exporter": "python",
   "pygments_lexer": "ipython3",
   "version": "3.9.9"
  }
 },
 "nbformat": 4,
 "nbformat_minor": 5
}
